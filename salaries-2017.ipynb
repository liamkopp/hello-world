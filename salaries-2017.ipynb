{
 "cells": [
  {
   "cell_type": "markdown",
   "metadata": {},
   "source": [
    "# Intro Project - Public Salary Disclosure 2017 + Gender"
   ]
  },
  {
   "cell_type": "markdown",
   "metadata": {},
   "source": [
    "## Import data"
   ]
  },
  {
   "cell_type": "code",
   "execution_count": 26,
   "metadata": {},
   "outputs": [],
   "source": [
    "import pandas as pd # data manipulation library, when you type 'pd' you refer to pandas\n",
    "data = pd.read_csv(\"public-salaries-2017-gender.csv\") # import csv as a DataFrame"
   ]
  },
  {
   "cell_type": "markdown",
   "metadata": {},
   "source": [
    "## Basic Data Discovery"
   ]
  },
  {
   "cell_type": "markdown",
   "metadata": {},
   "source": [
    "First things first - let's take a look at the data."
   ]
  },
  {
   "cell_type": "code",
   "execution_count": 27,
   "metadata": {
    "scrolled": true
   },
   "outputs": [
    {
     "data": {
      "text/html": [
       "<div>\n",
       "<style scoped>\n",
       "    .dataframe tbody tr th:only-of-type {\n",
       "        vertical-align: middle;\n",
       "    }\n",
       "\n",
       "    .dataframe tbody tr th {\n",
       "        vertical-align: top;\n",
       "    }\n",
       "\n",
       "    .dataframe thead th {\n",
       "        text-align: right;\n",
       "    }\n",
       "</style>\n",
       "<table border=\"1\" class=\"dataframe\">\n",
       "  <thead>\n",
       "    <tr style=\"text-align: right;\">\n",
       "      <th></th>\n",
       "      <th>Sector</th>\n",
       "      <th>Last Name</th>\n",
       "      <th>First Name</th>\n",
       "      <th>Salary Paid</th>\n",
       "      <th>Taxable Benefits</th>\n",
       "      <th>Employer</th>\n",
       "      <th>Job Title</th>\n",
       "      <th>Calendar Year</th>\n",
       "      <th>Gender</th>\n",
       "    </tr>\n",
       "  </thead>\n",
       "  <tbody>\n",
       "    <tr>\n",
       "      <th>0</th>\n",
       "      <td>Colleges</td>\n",
       "      <td>Abiscott</td>\n",
       "      <td>Alexa</td>\n",
       "      <td>$197,073.24</td>\n",
       "      <td>$2,033.69</td>\n",
       "      <td>Sheridan College Institute of Technology and A...</td>\n",
       "      <td>General Counsel And Information Privacy Officer</td>\n",
       "      <td>2017</td>\n",
       "      <td>f</td>\n",
       "    </tr>\n",
       "    <tr>\n",
       "      <th>1</th>\n",
       "      <td>Colleges</td>\n",
       "      <td>Aitken</td>\n",
       "      <td>Sharon</td>\n",
       "      <td>$118,650.76</td>\n",
       "      <td>$1,250.00</td>\n",
       "      <td>Sheridan College Institute of Technology and A...</td>\n",
       "      <td>Director Development and Campaign</td>\n",
       "      <td>2017</td>\n",
       "      <td>f</td>\n",
       "    </tr>\n",
       "    <tr>\n",
       "      <th>2</th>\n",
       "      <td>Colleges</td>\n",
       "      <td>Allcott</td>\n",
       "      <td>Austin Micha</td>\n",
       "      <td>$124,307.70</td>\n",
       "      <td>$1,264.54</td>\n",
       "      <td>Sheridan College Institute of Technology and A...</td>\n",
       "      <td>Dean</td>\n",
       "      <td>2017</td>\n",
       "      <td>m</td>\n",
       "    </tr>\n",
       "    <tr>\n",
       "      <th>3</th>\n",
       "      <td>Colleges</td>\n",
       "      <td>Andrews</td>\n",
       "      <td>Greg</td>\n",
       "      <td>$100,208.66</td>\n",
       "      <td>$62.88</td>\n",
       "      <td>Sheridan College Institute of Technology and A...</td>\n",
       "      <td>Professor</td>\n",
       "      <td>2017</td>\n",
       "      <td>m</td>\n",
       "    </tr>\n",
       "    <tr>\n",
       "      <th>4</th>\n",
       "      <td>Colleges</td>\n",
       "      <td>Angelini</td>\n",
       "      <td>Paul</td>\n",
       "      <td>$105,838.90</td>\n",
       "      <td>$62.88</td>\n",
       "      <td>Sheridan College Institute of Technology and A...</td>\n",
       "      <td>Professor</td>\n",
       "      <td>2017</td>\n",
       "      <td>m</td>\n",
       "    </tr>\n",
       "  </tbody>\n",
       "</table>\n",
       "</div>"
      ],
      "text/plain": [
       "     Sector Last Name    First Name  Salary Paid Taxable Benefits  \\\n",
       "0  Colleges  Abiscott         Alexa  $197,073.24        $2,033.69   \n",
       "1  Colleges    Aitken        Sharon  $118,650.76        $1,250.00   \n",
       "2  Colleges   Allcott  Austin Micha  $124,307.70        $1,264.54   \n",
       "3  Colleges   Andrews          Greg  $100,208.66           $62.88   \n",
       "4  Colleges  Angelini          Paul  $105,838.90           $62.88   \n",
       "\n",
       "                                            Employer  \\\n",
       "0  Sheridan College Institute of Technology and A...   \n",
       "1  Sheridan College Institute of Technology and A...   \n",
       "2  Sheridan College Institute of Technology and A...   \n",
       "3  Sheridan College Institute of Technology and A...   \n",
       "4  Sheridan College Institute of Technology and A...   \n",
       "\n",
       "                                         Job Title  Calendar Year Gender  \n",
       "0  General Counsel And Information Privacy Officer           2017      f  \n",
       "1                Director Development and Campaign           2017      f  \n",
       "2                                             Dean           2017      m  \n",
       "3                                        Professor           2017      m  \n",
       "4                                        Professor           2017      m  "
      ]
     },
     "execution_count": 27,
     "metadata": {},
     "output_type": "execute_result"
    }
   ],
   "source": [
    "data.head() # 'data' is an object. 'data' has a method called head() "
   ]
  },
  {
   "cell_type": "markdown",
   "metadata": {},
   "source": [
    "We can specify how many rows to return by entering a value as the argument to the ```head()``` method"
   ]
  },
  {
   "cell_type": "code",
   "execution_count": 28,
   "metadata": {},
   "outputs": [
    {
     "data": {
      "text/html": [
       "<div>\n",
       "<style scoped>\n",
       "    .dataframe tbody tr th:only-of-type {\n",
       "        vertical-align: middle;\n",
       "    }\n",
       "\n",
       "    .dataframe tbody tr th {\n",
       "        vertical-align: top;\n",
       "    }\n",
       "\n",
       "    .dataframe thead th {\n",
       "        text-align: right;\n",
       "    }\n",
       "</style>\n",
       "<table border=\"1\" class=\"dataframe\">\n",
       "  <thead>\n",
       "    <tr style=\"text-align: right;\">\n",
       "      <th></th>\n",
       "      <th>Sector</th>\n",
       "      <th>Last Name</th>\n",
       "      <th>First Name</th>\n",
       "      <th>Salary Paid</th>\n",
       "      <th>Taxable Benefits</th>\n",
       "      <th>Employer</th>\n",
       "      <th>Job Title</th>\n",
       "      <th>Calendar Year</th>\n",
       "      <th>Gender</th>\n",
       "    </tr>\n",
       "  </thead>\n",
       "  <tbody>\n",
       "    <tr>\n",
       "      <th>0</th>\n",
       "      <td>Colleges</td>\n",
       "      <td>Abiscott</td>\n",
       "      <td>Alexa</td>\n",
       "      <td>$197,073.24</td>\n",
       "      <td>$2,033.69</td>\n",
       "      <td>Sheridan College Institute of Technology and A...</td>\n",
       "      <td>General Counsel And Information Privacy Officer</td>\n",
       "      <td>2017</td>\n",
       "      <td>f</td>\n",
       "    </tr>\n",
       "    <tr>\n",
       "      <th>1</th>\n",
       "      <td>Colleges</td>\n",
       "      <td>Aitken</td>\n",
       "      <td>Sharon</td>\n",
       "      <td>$118,650.76</td>\n",
       "      <td>$1,250.00</td>\n",
       "      <td>Sheridan College Institute of Technology and A...</td>\n",
       "      <td>Director Development and Campaign</td>\n",
       "      <td>2017</td>\n",
       "      <td>f</td>\n",
       "    </tr>\n",
       "  </tbody>\n",
       "</table>\n",
       "</div>"
      ],
      "text/plain": [
       "     Sector Last Name First Name  Salary Paid Taxable Benefits  \\\n",
       "0  Colleges  Abiscott      Alexa  $197,073.24        $2,033.69   \n",
       "1  Colleges    Aitken     Sharon  $118,650.76        $1,250.00   \n",
       "\n",
       "                                            Employer  \\\n",
       "0  Sheridan College Institute of Technology and A...   \n",
       "1  Sheridan College Institute of Technology and A...   \n",
       "\n",
       "                                         Job Title  Calendar Year Gender  \n",
       "0  General Counsel And Information Privacy Officer           2017      f  \n",
       "1                Director Development and Campaign           2017      f  "
      ]
     },
     "execution_count": 28,
     "metadata": {},
     "output_type": "execute_result"
    }
   ],
   "source": [
    "data.head(2)"
   ]
  },
  {
   "cell_type": "markdown",
   "metadata": {},
   "source": [
    "We can also look at the last 5 records, or a random record."
   ]
  },
  {
   "cell_type": "code",
   "execution_count": 29,
   "metadata": {},
   "outputs": [
    {
     "data": {
      "text/html": [
       "<div>\n",
       "<style scoped>\n",
       "    .dataframe tbody tr th:only-of-type {\n",
       "        vertical-align: middle;\n",
       "    }\n",
       "\n",
       "    .dataframe tbody tr th {\n",
       "        vertical-align: top;\n",
       "    }\n",
       "\n",
       "    .dataframe thead th {\n",
       "        text-align: right;\n",
       "    }\n",
       "</style>\n",
       "<table border=\"1\" class=\"dataframe\">\n",
       "  <thead>\n",
       "    <tr style=\"text-align: right;\">\n",
       "      <th></th>\n",
       "      <th>Sector</th>\n",
       "      <th>Last Name</th>\n",
       "      <th>First Name</th>\n",
       "      <th>Salary Paid</th>\n",
       "      <th>Taxable Benefits</th>\n",
       "      <th>Employer</th>\n",
       "      <th>Job Title</th>\n",
       "      <th>Calendar Year</th>\n",
       "      <th>Gender</th>\n",
       "    </tr>\n",
       "  </thead>\n",
       "  <tbody>\n",
       "    <tr>\n",
       "      <th>118249</th>\n",
       "      <td>Universities</td>\n",
       "      <td>Zovkic</td>\n",
       "      <td>Iva</td>\n",
       "      <td>$104,927.39</td>\n",
       "      <td>$201.36</td>\n",
       "      <td>University of Toronto</td>\n",
       "      <td>Assistant Professor of Psychology</td>\n",
       "      <td>2017</td>\n",
       "      <td>f</td>\n",
       "    </tr>\n",
       "    <tr>\n",
       "      <th>118250</th>\n",
       "      <td>Universities</td>\n",
       "      <td>Zuberi</td>\n",
       "      <td>Daniyal</td>\n",
       "      <td>$158,128.98</td>\n",
       "      <td>$20,631.84</td>\n",
       "      <td>University of Toronto</td>\n",
       "      <td>Associate Professor of Social Work and Associa...</td>\n",
       "      <td>2017</td>\n",
       "      <td>m</td>\n",
       "    </tr>\n",
       "    <tr>\n",
       "      <th>118251</th>\n",
       "      <td>Universities</td>\n",
       "      <td>Zuliani</td>\n",
       "      <td>Elisa</td>\n",
       "      <td>$309,732.66</td>\n",
       "      <td>$448.14</td>\n",
       "      <td>University of Toronto</td>\n",
       "      <td>Professor of Accounting</td>\n",
       "      <td>2017</td>\n",
       "      <td>f</td>\n",
       "    </tr>\n",
       "    <tr>\n",
       "      <th>118252</th>\n",
       "      <td>Universities</td>\n",
       "      <td>Zuniga-Pflucker</td>\n",
       "      <td>Juan Carlos</td>\n",
       "      <td>$223,714.97</td>\n",
       "      <td>$223.80</td>\n",
       "      <td>University of Toronto</td>\n",
       "      <td>Professor and Chair, Immunology</td>\n",
       "      <td>2017</td>\n",
       "      <td>m</td>\n",
       "    </tr>\n",
       "    <tr>\n",
       "      <th>118253</th>\n",
       "      <td>Universities</td>\n",
       "      <td>Zweig</td>\n",
       "      <td>David</td>\n",
       "      <td>$343,913.54</td>\n",
       "      <td>$15,999.66</td>\n",
       "      <td>University of Toronto</td>\n",
       "      <td>Professor and Chair of Management</td>\n",
       "      <td>2017</td>\n",
       "      <td>m</td>\n",
       "    </tr>\n",
       "  </tbody>\n",
       "</table>\n",
       "</div>"
      ],
      "text/plain": [
       "              Sector        Last Name   First Name  Salary Paid  \\\n",
       "118249  Universities           Zovkic          Iva  $104,927.39   \n",
       "118250  Universities           Zuberi      Daniyal  $158,128.98   \n",
       "118251  Universities          Zuliani        Elisa  $309,732.66   \n",
       "118252  Universities  Zuniga-Pflucker  Juan Carlos  $223,714.97   \n",
       "118253  Universities            Zweig        David  $343,913.54   \n",
       "\n",
       "       Taxable Benefits               Employer  \\\n",
       "118249          $201.36  University of Toronto   \n",
       "118250       $20,631.84  University of Toronto   \n",
       "118251          $448.14  University of Toronto   \n",
       "118252          $223.80  University of Toronto   \n",
       "118253       $15,999.66  University of Toronto   \n",
       "\n",
       "                                                Job Title  Calendar Year  \\\n",
       "118249                  Assistant Professor of Psychology           2017   \n",
       "118250  Associate Professor of Social Work and Associa...           2017   \n",
       "118251                            Professor of Accounting           2017   \n",
       "118252                    Professor and Chair, Immunology           2017   \n",
       "118253                  Professor and Chair of Management           2017   \n",
       "\n",
       "       Gender  \n",
       "118249      f  \n",
       "118250      m  \n",
       "118251      f  \n",
       "118252      m  \n",
       "118253      m  "
      ]
     },
     "execution_count": 29,
     "metadata": {},
     "output_type": "execute_result"
    }
   ],
   "source": [
    "data.tail()"
   ]
  },
  {
   "cell_type": "code",
   "execution_count": 30,
   "metadata": {},
   "outputs": [
    {
     "data": {
      "text/html": [
       "<div>\n",
       "<style scoped>\n",
       "    .dataframe tbody tr th:only-of-type {\n",
       "        vertical-align: middle;\n",
       "    }\n",
       "\n",
       "    .dataframe tbody tr th {\n",
       "        vertical-align: top;\n",
       "    }\n",
       "\n",
       "    .dataframe thead th {\n",
       "        text-align: right;\n",
       "    }\n",
       "</style>\n",
       "<table border=\"1\" class=\"dataframe\">\n",
       "  <thead>\n",
       "    <tr style=\"text-align: right;\">\n",
       "      <th></th>\n",
       "      <th>Sector</th>\n",
       "      <th>Last Name</th>\n",
       "      <th>First Name</th>\n",
       "      <th>Salary Paid</th>\n",
       "      <th>Taxable Benefits</th>\n",
       "      <th>Employer</th>\n",
       "      <th>Job Title</th>\n",
       "      <th>Calendar Year</th>\n",
       "      <th>Gender</th>\n",
       "    </tr>\n",
       "  </thead>\n",
       "  <tbody>\n",
       "    <tr>\n",
       "      <th>21793</th>\n",
       "      <td>Government of Ontario - Ministries</td>\n",
       "      <td>Supa</td>\n",
       "      <td>Peter</td>\n",
       "      <td>$106,359.97</td>\n",
       "      <td>$162.65</td>\n",
       "      <td>Treasury Board Secretariat / Secrétariat du Co...</td>\n",
       "      <td>Senior Business Analyst Community Services Clu...</td>\n",
       "      <td>2017</td>\n",
       "      <td>m</td>\n",
       "    </tr>\n",
       "  </tbody>\n",
       "</table>\n",
       "</div>"
      ],
      "text/plain": [
       "                                   Sector Last Name First Name  Salary Paid  \\\n",
       "21793  Government of Ontario - Ministries      Supa      Peter  $106,359.97   \n",
       "\n",
       "      Taxable Benefits                                           Employer  \\\n",
       "21793          $162.65  Treasury Board Secretariat / Secrétariat du Co...   \n",
       "\n",
       "                                               Job Title  Calendar Year Gender  \n",
       "21793  Senior Business Analyst Community Services Clu...           2017      m  "
      ]
     },
     "execution_count": 30,
     "metadata": {},
     "output_type": "execute_result"
    }
   ],
   "source": [
    "data.sample()"
   ]
  },
  {
   "cell_type": "markdown",
   "metadata": {},
   "source": [
    "From this, we can see the column names, and get a sense of the types of values in each column.\n",
    "\n",
    "We can also get the shape of the data - (number of rows, number of columns)"
   ]
  },
  {
   "cell_type": "code",
   "execution_count": 31,
   "metadata": {},
   "outputs": [
    {
     "data": {
      "text/plain": [
       "(118254, 9)"
      ]
     },
     "execution_count": 31,
     "metadata": {},
     "output_type": "execute_result"
    }
   ],
   "source": [
    "data.shape # shape is an attribute of 'data'"
   ]
  },
  {
   "cell_type": "markdown",
   "metadata": {},
   "source": [
    "Detailed analysis of values in each column."
   ]
  },
  {
   "cell_type": "code",
   "execution_count": 32,
   "metadata": {},
   "outputs": [
    {
     "data": {
      "text/html": [
       "<div>\n",
       "<style scoped>\n",
       "    .dataframe tbody tr th:only-of-type {\n",
       "        vertical-align: middle;\n",
       "    }\n",
       "\n",
       "    .dataframe tbody tr th {\n",
       "        vertical-align: top;\n",
       "    }\n",
       "\n",
       "    .dataframe thead th {\n",
       "        text-align: right;\n",
       "    }\n",
       "</style>\n",
       "<table border=\"1\" class=\"dataframe\">\n",
       "  <thead>\n",
       "    <tr style=\"text-align: right;\">\n",
       "      <th></th>\n",
       "      <th>Sector</th>\n",
       "      <th>Last Name</th>\n",
       "      <th>First Name</th>\n",
       "      <th>Salary Paid</th>\n",
       "      <th>Taxable Benefits</th>\n",
       "      <th>Employer</th>\n",
       "      <th>Job Title</th>\n",
       "      <th>Calendar Year</th>\n",
       "      <th>Gender</th>\n",
       "    </tr>\n",
       "  </thead>\n",
       "  <tbody>\n",
       "    <tr>\n",
       "      <th>count</th>\n",
       "      <td>118254</td>\n",
       "      <td>118254</td>\n",
       "      <td>118254</td>\n",
       "      <td>118254</td>\n",
       "      <td>118254</td>\n",
       "      <td>118254</td>\n",
       "      <td>118254</td>\n",
       "      <td>118254.0</td>\n",
       "      <td>118254</td>\n",
       "    </tr>\n",
       "    <tr>\n",
       "      <th>unique</th>\n",
       "      <td>18</td>\n",
       "      <td>44083</td>\n",
       "      <td>15131</td>\n",
       "      <td>101743</td>\n",
       "      <td>39746</td>\n",
       "      <td>1736</td>\n",
       "      <td>26915</td>\n",
       "      <td>NaN</td>\n",
       "      <td>2</td>\n",
       "    </tr>\n",
       "    <tr>\n",
       "      <th>top</th>\n",
       "      <td>Municipalities and Services</td>\n",
       "      <td>Smith</td>\n",
       "      <td>Michael</td>\n",
       "      <td>$101,974.84</td>\n",
       "      <td>$0.00</td>\n",
       "      <td>Ontario Power Generation</td>\n",
       "      <td>Constable</td>\n",
       "      <td>NaN</td>\n",
       "      <td>m</td>\n",
       "    </tr>\n",
       "    <tr>\n",
       "      <th>freq</th>\n",
       "      <td>37573</td>\n",
       "      <td>703</td>\n",
       "      <td>2375</td>\n",
       "      <td>624</td>\n",
       "      <td>7638</td>\n",
       "      <td>6940</td>\n",
       "      <td>3840</td>\n",
       "      <td>NaN</td>\n",
       "      <td>75687</td>\n",
       "    </tr>\n",
       "    <tr>\n",
       "      <th>mean</th>\n",
       "      <td>NaN</td>\n",
       "      <td>NaN</td>\n",
       "      <td>NaN</td>\n",
       "      <td>NaN</td>\n",
       "      <td>NaN</td>\n",
       "      <td>NaN</td>\n",
       "      <td>NaN</td>\n",
       "      <td>2017.0</td>\n",
       "      <td>NaN</td>\n",
       "    </tr>\n",
       "    <tr>\n",
       "      <th>std</th>\n",
       "      <td>NaN</td>\n",
       "      <td>NaN</td>\n",
       "      <td>NaN</td>\n",
       "      <td>NaN</td>\n",
       "      <td>NaN</td>\n",
       "      <td>NaN</td>\n",
       "      <td>NaN</td>\n",
       "      <td>0.0</td>\n",
       "      <td>NaN</td>\n",
       "    </tr>\n",
       "    <tr>\n",
       "      <th>min</th>\n",
       "      <td>NaN</td>\n",
       "      <td>NaN</td>\n",
       "      <td>NaN</td>\n",
       "      <td>NaN</td>\n",
       "      <td>NaN</td>\n",
       "      <td>NaN</td>\n",
       "      <td>NaN</td>\n",
       "      <td>2017.0</td>\n",
       "      <td>NaN</td>\n",
       "    </tr>\n",
       "    <tr>\n",
       "      <th>25%</th>\n",
       "      <td>NaN</td>\n",
       "      <td>NaN</td>\n",
       "      <td>NaN</td>\n",
       "      <td>NaN</td>\n",
       "      <td>NaN</td>\n",
       "      <td>NaN</td>\n",
       "      <td>NaN</td>\n",
       "      <td>2017.0</td>\n",
       "      <td>NaN</td>\n",
       "    </tr>\n",
       "    <tr>\n",
       "      <th>50%</th>\n",
       "      <td>NaN</td>\n",
       "      <td>NaN</td>\n",
       "      <td>NaN</td>\n",
       "      <td>NaN</td>\n",
       "      <td>NaN</td>\n",
       "      <td>NaN</td>\n",
       "      <td>NaN</td>\n",
       "      <td>2017.0</td>\n",
       "      <td>NaN</td>\n",
       "    </tr>\n",
       "    <tr>\n",
       "      <th>75%</th>\n",
       "      <td>NaN</td>\n",
       "      <td>NaN</td>\n",
       "      <td>NaN</td>\n",
       "      <td>NaN</td>\n",
       "      <td>NaN</td>\n",
       "      <td>NaN</td>\n",
       "      <td>NaN</td>\n",
       "      <td>2017.0</td>\n",
       "      <td>NaN</td>\n",
       "    </tr>\n",
       "    <tr>\n",
       "      <th>max</th>\n",
       "      <td>NaN</td>\n",
       "      <td>NaN</td>\n",
       "      <td>NaN</td>\n",
       "      <td>NaN</td>\n",
       "      <td>NaN</td>\n",
       "      <td>NaN</td>\n",
       "      <td>NaN</td>\n",
       "      <td>2017.0</td>\n",
       "      <td>NaN</td>\n",
       "    </tr>\n",
       "  </tbody>\n",
       "</table>\n",
       "</div>"
      ],
      "text/plain": [
       "                             Sector Last Name First Name  Salary Paid  \\\n",
       "count                        118254    118254     118254       118254   \n",
       "unique                           18     44083      15131       101743   \n",
       "top     Municipalities and Services     Smith    Michael  $101,974.84   \n",
       "freq                          37573       703       2375          624   \n",
       "mean                            NaN       NaN        NaN          NaN   \n",
       "std                             NaN       NaN        NaN          NaN   \n",
       "min                             NaN       NaN        NaN          NaN   \n",
       "25%                             NaN       NaN        NaN          NaN   \n",
       "50%                             NaN       NaN        NaN          NaN   \n",
       "75%                             NaN       NaN        NaN          NaN   \n",
       "max                             NaN       NaN        NaN          NaN   \n",
       "\n",
       "       Taxable Benefits                  Employer  Job Title  Calendar Year  \\\n",
       "count            118254                    118254     118254       118254.0   \n",
       "unique            39746                      1736      26915            NaN   \n",
       "top               $0.00  Ontario Power Generation  Constable            NaN   \n",
       "freq               7638                      6940       3840            NaN   \n",
       "mean                NaN                       NaN        NaN         2017.0   \n",
       "std                 NaN                       NaN        NaN            0.0   \n",
       "min                 NaN                       NaN        NaN         2017.0   \n",
       "25%                 NaN                       NaN        NaN         2017.0   \n",
       "50%                 NaN                       NaN        NaN         2017.0   \n",
       "75%                 NaN                       NaN        NaN         2017.0   \n",
       "max                 NaN                       NaN        NaN         2017.0   \n",
       "\n",
       "        Gender  \n",
       "count   118254  \n",
       "unique       2  \n",
       "top          m  \n",
       "freq     75687  \n",
       "mean       NaN  \n",
       "std        NaN  \n",
       "min        NaN  \n",
       "25%        NaN  \n",
       "50%        NaN  \n",
       "75%        NaN  \n",
       "max        NaN  "
      ]
     },
     "execution_count": 32,
     "metadata": {},
     "output_type": "execute_result"
    }
   ],
   "source": [
    "data.describe(include='all')"
   ]
  },
  {
   "cell_type": "markdown",
   "metadata": {},
   "source": [
    "Look for null values. -_what is a null value? Blanks, NA_"
   ]
  },
  {
   "cell_type": "code",
   "execution_count": 33,
   "metadata": {
    "scrolled": true
   },
   "outputs": [
    {
     "data": {
      "text/plain": [
       "Sector              0\n",
       "Last Name           0\n",
       "First Name          0\n",
       "Salary Paid         0\n",
       "Taxable Benefits    0\n",
       "Employer            0\n",
       "Job Title           0\n",
       "Calendar Year       0\n",
       "Gender              0\n",
       "dtype: int64"
      ]
     },
     "execution_count": 33,
     "metadata": {},
     "output_type": "execute_result"
    }
   ],
   "source": [
    "data.isnull().sum()"
   ]
  },
  {
   "cell_type": "markdown",
   "metadata": {},
   "source": [
    "Select a column - the numbers on the left show the index."
   ]
  },
  {
   "cell_type": "code",
   "execution_count": 34,
   "metadata": {},
   "outputs": [
    {
     "data": {
      "text/plain": [
       "0             Colleges\n",
       "1             Colleges\n",
       "2             Colleges\n",
       "3             Colleges\n",
       "4             Colleges\n",
       "5             Colleges\n",
       "6             Colleges\n",
       "7             Colleges\n",
       "8             Colleges\n",
       "9             Colleges\n",
       "10            Colleges\n",
       "11            Colleges\n",
       "12            Colleges\n",
       "13            Colleges\n",
       "14            Colleges\n",
       "15            Colleges\n",
       "16            Colleges\n",
       "17            Colleges\n",
       "18            Colleges\n",
       "19            Colleges\n",
       "20            Colleges\n",
       "21            Colleges\n",
       "22            Colleges\n",
       "23            Colleges\n",
       "24            Colleges\n",
       "25            Colleges\n",
       "26            Colleges\n",
       "27            Colleges\n",
       "28            Colleges\n",
       "29            Colleges\n",
       "              ...     \n",
       "118224    Universities\n",
       "118225    Universities\n",
       "118226    Universities\n",
       "118227    Universities\n",
       "118228    Universities\n",
       "118229    Universities\n",
       "118230    Universities\n",
       "118231    Universities\n",
       "118232    Universities\n",
       "118233    Universities\n",
       "118234    Universities\n",
       "118235    Universities\n",
       "118236    Universities\n",
       "118237    Universities\n",
       "118238    Universities\n",
       "118239    Universities\n",
       "118240    Universities\n",
       "118241    Universities\n",
       "118242    Universities\n",
       "118243    Universities\n",
       "118244    Universities\n",
       "118245    Universities\n",
       "118246    Universities\n",
       "118247    Universities\n",
       "118248    Universities\n",
       "118249    Universities\n",
       "118250    Universities\n",
       "118251    Universities\n",
       "118252    Universities\n",
       "118253    Universities\n",
       "Name: Sector, Length: 118254, dtype: object"
      ]
     },
     "execution_count": 34,
     "metadata": {},
     "output_type": "execute_result"
    }
   ],
   "source": [
    "data.Sector"
   ]
  },
  {
   "cell_type": "markdown",
   "metadata": {},
   "source": [
    "If the column name has a space in it, use brackets and quotes instead of just the dot."
   ]
  },
  {
   "cell_type": "code",
   "execution_count": 35,
   "metadata": {},
   "outputs": [
    {
     "data": {
      "text/plain": [
       "0                Abiscott\n",
       "1                  Aitken\n",
       "2                 Allcott\n",
       "3                 Andrews\n",
       "4                Angelini\n",
       "5               Armstrong\n",
       "6                Atkinson\n",
       "7                    Ball\n",
       "8                 Bankuti\n",
       "9                  Barber\n",
       "10                   Beca\n",
       "11                 Benson\n",
       "12               Bielecka\n",
       "13                 Bomben\n",
       "14                 Bonich\n",
       "15                  Booth\n",
       "16               Braggins\n",
       "17                 Brazil\n",
       "18                Buchner\n",
       "19                 Bureau\n",
       "20                 Burjaw\n",
       "21                  Burns\n",
       "22                 Cadger\n",
       "23              Callaghan\n",
       "24                Cameron\n",
       "25              Carpenter\n",
       "26                Chapman\n",
       "27                Cockton\n",
       "28                Collard\n",
       "29              Colquhoun\n",
       "               ...       \n",
       "118224               Yuen\n",
       "118225               Yuen\n",
       "118226               Yung\n",
       "118227           Yunusova\n",
       "118228             Zabjek\n",
       "118229             Zajacz\n",
       "118230           Zakzanis\n",
       "118231            Zaleski\n",
       "118232       Zambenedetti\n",
       "118233             Zamble\n",
       "118234             Zammit\n",
       "118235               Zand\n",
       "118236           Zandstra\n",
       "118237                Zee\n",
       "118238              Zemel\n",
       "118239              Zhang\n",
       "118240              Zhang\n",
       "118241               Zhao\n",
       "118242               Zhao\n",
       "118243            Ziegler\n",
       "118244           Zilcosky\n",
       "118245             Zilman\n",
       "118246             Zinaty\n",
       "118247            Zingaro\n",
       "118248              Zingg\n",
       "118249             Zovkic\n",
       "118250             Zuberi\n",
       "118251            Zuliani\n",
       "118252    Zuniga-Pflucker\n",
       "118253              Zweig\n",
       "Name: Last Name, Length: 118254, dtype: object"
      ]
     },
     "execution_count": 35,
     "metadata": {},
     "output_type": "execute_result"
    }
   ],
   "source": [
    "data['Last Name']"
   ]
  },
  {
   "cell_type": "markdown",
   "metadata": {},
   "source": [
    "Get unique values in the column"
   ]
  },
  {
   "cell_type": "code",
   "execution_count": 36,
   "metadata": {
    "scrolled": false
   },
   "outputs": [
    {
     "data": {
      "text/plain": [
       "array(['Colleges', 'Crown Agencies', 'Government of Ontario - Judiciary',\n",
       "       'Government of Ontario - Legislative Assembly and Offices',\n",
       "       'Government of Ontario - Ministries',\n",
       "       'Hospitals and Boards of Public Health',\n",
       "       'Municipalities and Services', 'Ontario Power Generation',\n",
       "       'Other Public Sector Employers', 'School Boards',\n",
       "       'Seconded (Advanced Education and Skills Development)*',\n",
       "       'Seconded (Attorney General)*',\n",
       "       'Seconded (Children and Youth Services)*',\n",
       "       'Seconded (Community Safety and Correctional Services)*',\n",
       "       'Seconded (Education)*', 'Seconded (Health and Long-Term Care)*',\n",
       "       'Seconded (Ministry of Labour)*', 'Universities'], dtype=object)"
      ]
     },
     "execution_count": 36,
     "metadata": {},
     "output_type": "execute_result"
    }
   ],
   "source": [
    "data.Sector.unique() # An array is a variable that stores multiple values"
   ]
  },
  {
   "cell_type": "markdown",
   "metadata": {},
   "source": [
    "## Data Maniuplation"
   ]
  },
  {
   "cell_type": "markdown",
   "metadata": {},
   "source": [
    "Look for any redundant columns - take a look at the 'Calendar Year' column."
   ]
  },
  {
   "cell_type": "code",
   "execution_count": 37,
   "metadata": {},
   "outputs": [
    {
     "data": {
      "text/plain": [
       "0         2017\n",
       "1         2017\n",
       "2         2017\n",
       "3         2017\n",
       "4         2017\n",
       "5         2017\n",
       "6         2017\n",
       "7         2017\n",
       "8         2017\n",
       "9         2017\n",
       "10        2017\n",
       "11        2017\n",
       "12        2017\n",
       "13        2017\n",
       "14        2017\n",
       "15        2017\n",
       "16        2017\n",
       "17        2017\n",
       "18        2017\n",
       "19        2017\n",
       "20        2017\n",
       "21        2017\n",
       "22        2017\n",
       "23        2017\n",
       "24        2017\n",
       "25        2017\n",
       "26        2017\n",
       "27        2017\n",
       "28        2017\n",
       "29        2017\n",
       "          ... \n",
       "118224    2017\n",
       "118225    2017\n",
       "118226    2017\n",
       "118227    2017\n",
       "118228    2017\n",
       "118229    2017\n",
       "118230    2017\n",
       "118231    2017\n",
       "118232    2017\n",
       "118233    2017\n",
       "118234    2017\n",
       "118235    2017\n",
       "118236    2017\n",
       "118237    2017\n",
       "118238    2017\n",
       "118239    2017\n",
       "118240    2017\n",
       "118241    2017\n",
       "118242    2017\n",
       "118243    2017\n",
       "118244    2017\n",
       "118245    2017\n",
       "118246    2017\n",
       "118247    2017\n",
       "118248    2017\n",
       "118249    2017\n",
       "118250    2017\n",
       "118251    2017\n",
       "118252    2017\n",
       "118253    2017\n",
       "Name: Calendar Year, Length: 118254, dtype: int64"
      ]
     },
     "execution_count": 37,
     "metadata": {},
     "output_type": "execute_result"
    }
   ],
   "source": [
    "data['Calendar Year']"
   ]
  },
  {
   "cell_type": "markdown",
   "metadata": {},
   "source": [
    "And then look at unique values in the column."
   ]
  },
  {
   "cell_type": "code",
   "execution_count": 38,
   "metadata": {},
   "outputs": [
    {
     "data": {
      "text/plain": [
       "array([2017])"
      ]
     },
     "execution_count": 38,
     "metadata": {},
     "output_type": "execute_result"
    }
   ],
   "source": [
    "data['Calendar Year'].unique()"
   ]
  },
  {
   "cell_type": "markdown",
   "metadata": {},
   "source": [
    "All values in this column are the same - 2017. This does not provide any value so we can remove (drop) the column."
   ]
  },
  {
   "cell_type": "code",
   "execution_count": 39,
   "metadata": {},
   "outputs": [],
   "source": [
    "data = data.drop(['Calendar Year'], axis='columns')"
   ]
  },
  {
   "cell_type": "markdown",
   "metadata": {},
   "source": [
    "Let's confirm the column is gone by looking at columns."
   ]
  },
  {
   "cell_type": "code",
   "execution_count": 40,
   "metadata": {},
   "outputs": [
    {
     "data": {
      "text/plain": [
       "Index(['Sector', 'Last Name', 'First Name', 'Salary Paid', 'Taxable Benefits',\n",
       "       'Employer', 'Job Title', 'Gender'],\n",
       "      dtype='object')"
      ]
     },
     "execution_count": 40,
     "metadata": {},
     "output_type": "execute_result"
    }
   ],
   "source": [
    "data.columns"
   ]
  },
  {
   "cell_type": "markdown",
   "metadata": {},
   "source": [
    "## Task 1: Highest Earners and Gender\n",
    "We want to find out who makes the most money and what gender they are.\n",
    "First, let's combine the 'Salary Paid' and 'Taxable Benefits' columns into a new column - 'Total Earned'"
   ]
  },
  {
   "cell_type": "code",
   "execution_count": 41,
   "metadata": {},
   "outputs": [
    {
     "data": {
      "text/plain": [
       "0          $197,073.24$2,033.69\n",
       "1          $118,650.76$1,250.00\n",
       "2          $124,307.70$1,264.54\n",
       "3             $100,208.66$62.88\n",
       "4             $105,838.90$62.88\n",
       "5            $101,696.02$101.50\n",
       "6          $121,814.19$1,688.54\n",
       "7          $115,552.24$1,309.31\n",
       "8             $109,884.91$51.57\n",
       "9          $122,194.07$1,684.61\n",
       "10         $118,509.03$1,785.94\n",
       "11         $103,039.10$1,416.61\n",
       "12            $101,696.02$62.88\n",
       "13         $136,975.60$1,737.38\n",
       "14         $102,401.26$1,544.57\n",
       "15           $102,747.36$101.50\n",
       "16         $136,836.70$1,908.25\n",
       "17           $107,029.89$101.50\n",
       "18             $112,426.80$0.00\n",
       "19           $101,642.00$101.50\n",
       "20         $143,709.95$1,861.71\n",
       "21         $143,454.74$1,921.28\n",
       "22            $101,696.01$62.88\n",
       "23            $101,696.02$62.88\n",
       "24         $143,925.38$1,749.76\n",
       "25         $103,253.26$1,604.71\n",
       "26         $154,075.48$1,943.36\n",
       "27         $130,360.61$1,737.38\n",
       "28         $102,401.26$1,421.48\n",
       "29            $115,561.14$51.57\n",
       "                  ...          \n",
       "118224     $102,040.96$1,932.46\n",
       "118225       $136,353.46$448.14\n",
       "118226       $265,412.08$201.90\n",
       "118227       $146,231.52$448.14\n",
       "118228       $129,478.98$223.80\n",
       "118229       $117,979.50$422.22\n",
       "118230       $175,145.08$223.80\n",
       "118231       $102,602.50$165.60\n",
       "118232       $101,455.50$181.32\n",
       "118233     $162,478.22$1,823.80\n",
       "118234       $111,705.54$316.06\n",
       "118235       $127,794.99$448.14\n",
       "118236     $133,984.50$3,472.62\n",
       "118237       $177,119.04$223.80\n",
       "118238       $203,215.50$223.80\n",
       "118239       $103,318.33$184.76\n",
       "118240       $104,175.44$498.78\n",
       "118241       $106,068.54$379.98\n",
       "118242       $106,578.00$560.62\n",
       "118243       $107,138.95$371.34\n",
       "118244       $181,293.48$223.80\n",
       "118245       $141,085.98$223.80\n",
       "118246       $206,688.19$223.80\n",
       "118247       $101,644.50$181.62\n",
       "118248       $230,857.51$531.84\n",
       "118249       $104,927.39$201.36\n",
       "118250    $158,128.98$20,631.84\n",
       "118251       $309,732.66$448.14\n",
       "118252       $223,714.97$223.80\n",
       "118253    $343,913.54$15,999.66\n",
       "Name: Total Earned, Length: 118254, dtype: object"
      ]
     },
     "execution_count": 41,
     "metadata": {},
     "output_type": "execute_result"
    }
   ],
   "source": [
    "data['Total Earned'] = data['Salary Paid'] + data['Taxable Benefits']\n",
    "data['Total Earned']"
   ]
  },
  {
   "cell_type": "markdown",
   "metadata": {},
   "source": [
    "Uh oh... the new column just shows the two values side by side instead of the sum. This has to do with the _data type_ of the 'Salary Paid' and 'Taxable Benefits' columns. "
   ]
  },
  {
   "cell_type": "code",
   "execution_count": 42,
   "metadata": {},
   "outputs": [
    {
     "data": {
      "text/plain": [
       "Sector              object\n",
       "Last Name           object\n",
       "First Name          object\n",
       "Salary Paid         object\n",
       "Taxable Benefits    object\n",
       "Employer            object\n",
       "Job Title           object\n",
       "Gender              object\n",
       "Total Earned        object\n",
       "dtype: object"
      ]
     },
     "execution_count": 42,
     "metadata": {},
     "output_type": "execute_result"
    }
   ],
   "source": [
    "data.dtypes"
   ]
  },
  {
   "cell_type": "markdown",
   "metadata": {},
   "source": [
    "This shows that the columns are of type ```object``` which means they are treated as a _string_ or text. We need to convert the object into a numeric value first before adding them together."
   ]
  },
  {
   "cell_type": "code",
   "execution_count": 43,
   "metadata": {
    "scrolled": true
   },
   "outputs": [
    {
     "ename": "ValueError",
     "evalue": "Unable to parse string \"$197,073.24\" at position 0",
     "output_type": "error",
     "traceback": [
      "\u001b[0;31m---------------------------------------------------------------------------\u001b[0m",
      "\u001b[0;31mValueError\u001b[0m                                Traceback (most recent call last)",
      "\u001b[0;32mpandas/_libs/src/inference.pyx\u001b[0m in \u001b[0;36mpandas._libs.lib.maybe_convert_numeric\u001b[0;34m()\u001b[0m\n",
      "\u001b[0;31mValueError\u001b[0m: Unable to parse string \"$197,073.24\"",
      "\nDuring handling of the above exception, another exception occurred:\n",
      "\u001b[0;31mValueError\u001b[0m                                Traceback (most recent call last)",
      "\u001b[0;32m<ipython-input-43-120ce6f413f8>\u001b[0m in \u001b[0;36m<module>\u001b[0;34m\u001b[0m\n\u001b[0;32m----> 1\u001b[0;31m \u001b[0mdata\u001b[0m\u001b[0;34m[\u001b[0m\u001b[0;34m'Salary Paid'\u001b[0m\u001b[0;34m]\u001b[0m\u001b[0;34m=\u001b[0m \u001b[0mpd\u001b[0m\u001b[0;34m.\u001b[0m\u001b[0mto_numeric\u001b[0m\u001b[0;34m(\u001b[0m\u001b[0mdata\u001b[0m\u001b[0;34m[\u001b[0m\u001b[0;34m'Salary Paid'\u001b[0m\u001b[0;34m]\u001b[0m\u001b[0;34m)\u001b[0m \u001b[0;31m# Convert column to numeric value (float64)\u001b[0m\u001b[0;34m\u001b[0m\u001b[0;34m\u001b[0m\u001b[0m\n\u001b[0m\u001b[1;32m      2\u001b[0m \u001b[0mdata\u001b[0m\u001b[0;34m[\u001b[0m\u001b[0;34m'Taxable Benefits'\u001b[0m\u001b[0;34m]\u001b[0m\u001b[0;34m=\u001b[0m \u001b[0mpd\u001b[0m\u001b[0;34m.\u001b[0m\u001b[0mto_numeric\u001b[0m\u001b[0;34m(\u001b[0m\u001b[0mdata\u001b[0m\u001b[0;34m[\u001b[0m\u001b[0;34m'Taxable Benefits'\u001b[0m\u001b[0;34m]\u001b[0m\u001b[0;34m)\u001b[0m\u001b[0;34m\u001b[0m\u001b[0;34m\u001b[0m\u001b[0m\n",
      "\u001b[0;32m~/Documents/Environments/project1_env/lib/python3.6/site-packages/pandas/core/tools/numeric.py\u001b[0m in \u001b[0;36mto_numeric\u001b[0;34m(arg, errors, downcast)\u001b[0m\n\u001b[1;32m    131\u001b[0m             \u001b[0mcoerce_numeric\u001b[0m \u001b[0;34m=\u001b[0m \u001b[0;32mFalse\u001b[0m \u001b[0;32mif\u001b[0m \u001b[0merrors\u001b[0m \u001b[0;32min\u001b[0m \u001b[0;34m(\u001b[0m\u001b[0;34m'ignore'\u001b[0m\u001b[0;34m,\u001b[0m \u001b[0;34m'raise'\u001b[0m\u001b[0;34m)\u001b[0m \u001b[0;32melse\u001b[0m \u001b[0;32mTrue\u001b[0m\u001b[0;34m\u001b[0m\u001b[0;34m\u001b[0m\u001b[0m\n\u001b[1;32m    132\u001b[0m             values = lib.maybe_convert_numeric(values, set(),\n\u001b[0;32m--> 133\u001b[0;31m                                                coerce_numeric=coerce_numeric)\n\u001b[0m\u001b[1;32m    134\u001b[0m \u001b[0;34m\u001b[0m\u001b[0m\n\u001b[1;32m    135\u001b[0m     \u001b[0;32mexcept\u001b[0m \u001b[0mException\u001b[0m\u001b[0;34m:\u001b[0m\u001b[0;34m\u001b[0m\u001b[0;34m\u001b[0m\u001b[0m\n",
      "\u001b[0;32mpandas/_libs/src/inference.pyx\u001b[0m in \u001b[0;36mpandas._libs.lib.maybe_convert_numeric\u001b[0;34m()\u001b[0m\n",
      "\u001b[0;31mValueError\u001b[0m: Unable to parse string \"$197,073.24\" at position 0"
     ]
    }
   ],
   "source": [
    "data['Salary Paid']= pd.to_numeric(data['Salary Paid']) # Convert column to numeric value (float64)\n",
    "data['Taxable Benefits']= pd.to_numeric(data['Taxable Benefits'])"
   ]
  },
  {
   "cell_type": "markdown",
   "metadata": {},
   "source": [
    "Another error... it can't parse (understand by analyzing its parts) the string. Position 0 is the position of the value ($197,073.24) in the column - the first position. Let's remove the ```$``` and ```,``` and try again."
   ]
  },
  {
   "cell_type": "code",
   "execution_count": 45,
   "metadata": {
    "scrolled": true
   },
   "outputs": [
    {
     "data": {
      "text/plain": [
       "0          2033.69\n",
       "1          1250.00\n",
       "2          1264.54\n",
       "3            62.88\n",
       "4            62.88\n",
       "5           101.50\n",
       "6          1688.54\n",
       "7          1309.31\n",
       "8            51.57\n",
       "9          1684.61\n",
       "10         1785.94\n",
       "11         1416.61\n",
       "12           62.88\n",
       "13         1737.38\n",
       "14         1544.57\n",
       "15          101.50\n",
       "16         1908.25\n",
       "17          101.50\n",
       "18            0.00\n",
       "19          101.50\n",
       "20         1861.71\n",
       "21         1921.28\n",
       "22           62.88\n",
       "23           62.88\n",
       "24         1749.76\n",
       "25         1604.71\n",
       "26         1943.36\n",
       "27         1737.38\n",
       "28         1421.48\n",
       "29           51.57\n",
       "            ...   \n",
       "118224     1932.46\n",
       "118225      448.14\n",
       "118226      201.90\n",
       "118227      448.14\n",
       "118228      223.80\n",
       "118229      422.22\n",
       "118230      223.80\n",
       "118231      165.60\n",
       "118232      181.32\n",
       "118233     1823.80\n",
       "118234      316.06\n",
       "118235      448.14\n",
       "118236     3472.62\n",
       "118237      223.80\n",
       "118238      223.80\n",
       "118239      184.76\n",
       "118240      498.78\n",
       "118241      379.98\n",
       "118242      560.62\n",
       "118243      371.34\n",
       "118244      223.80\n",
       "118245      223.80\n",
       "118246      223.80\n",
       "118247      181.62\n",
       "118248      531.84\n",
       "118249      201.36\n",
       "118250    20631.84\n",
       "118251      448.14\n",
       "118252      223.80\n",
       "118253    15999.66\n",
       "Name: Taxable Benefits, Length: 118254, dtype: float64"
      ]
     },
     "execution_count": 45,
     "metadata": {},
     "output_type": "execute_result"
    }
   ],
   "source": [
    "data['Salary Paid'] = data['Salary Paid'].str.strip() # Removes whitespace at beginning and end\n",
    "data['Salary Paid'] = data['Salary Paid'].str.replace('$','') # Replace $ with nothing\n",
    "data['Salary Paid'] = data['Salary Paid'].str.replace(',','') \n",
    "data['Salary Paid']= pd.to_numeric(data['Salary Paid'])\n",
    "\n",
    "data['Taxable Benefits'] = data['Taxable Benefits'].str.strip()\n",
    "data['Taxable Benefits'] = data['Taxable Benefits'].str.replace('$','')\n",
    "data['Taxable Benefits'] = data['Taxable Benefits'].str.replace(',','') \n",
    "data['Taxable Benefits']= pd.to_numeric(data['Taxable Benefits']) \n",
    "data['Taxable Benefits']\n"
   ]
  },
  {
   "cell_type": "markdown",
   "metadata": {},
   "source": [
    "Success! The columns now look like numbers and also show that they are data type ```float64``` which is the data type for decimal numbers. \n",
    "\n",
    "Let's combine those columns now."
   ]
  },
  {
   "cell_type": "code",
   "execution_count": 47,
   "metadata": {
    "scrolled": true
   },
   "outputs": [
    {
     "data": {
      "text/html": [
       "<div>\n",
       "<style scoped>\n",
       "    .dataframe tbody tr th:only-of-type {\n",
       "        vertical-align: middle;\n",
       "    }\n",
       "\n",
       "    .dataframe tbody tr th {\n",
       "        vertical-align: top;\n",
       "    }\n",
       "\n",
       "    .dataframe thead th {\n",
       "        text-align: right;\n",
       "    }\n",
       "</style>\n",
       "<table border=\"1\" class=\"dataframe\">\n",
       "  <thead>\n",
       "    <tr style=\"text-align: right;\">\n",
       "      <th></th>\n",
       "      <th>Salary Paid</th>\n",
       "      <th>Taxable Benefits</th>\n",
       "      <th>Total Earned</th>\n",
       "    </tr>\n",
       "  </thead>\n",
       "  <tbody>\n",
       "    <tr>\n",
       "      <th>0</th>\n",
       "      <td>197073.24</td>\n",
       "      <td>2033.69</td>\n",
       "      <td>199106.93</td>\n",
       "    </tr>\n",
       "    <tr>\n",
       "      <th>1</th>\n",
       "      <td>118650.76</td>\n",
       "      <td>1250.00</td>\n",
       "      <td>119900.76</td>\n",
       "    </tr>\n",
       "    <tr>\n",
       "      <th>2</th>\n",
       "      <td>124307.70</td>\n",
       "      <td>1264.54</td>\n",
       "      <td>125572.24</td>\n",
       "    </tr>\n",
       "    <tr>\n",
       "      <th>3</th>\n",
       "      <td>100208.66</td>\n",
       "      <td>62.88</td>\n",
       "      <td>100271.54</td>\n",
       "    </tr>\n",
       "    <tr>\n",
       "      <th>4</th>\n",
       "      <td>105838.90</td>\n",
       "      <td>62.88</td>\n",
       "      <td>105901.78</td>\n",
       "    </tr>\n",
       "    <tr>\n",
       "      <th>5</th>\n",
       "      <td>101696.02</td>\n",
       "      <td>101.50</td>\n",
       "      <td>101797.52</td>\n",
       "    </tr>\n",
       "    <tr>\n",
       "      <th>6</th>\n",
       "      <td>121814.19</td>\n",
       "      <td>1688.54</td>\n",
       "      <td>123502.73</td>\n",
       "    </tr>\n",
       "    <tr>\n",
       "      <th>7</th>\n",
       "      <td>115552.24</td>\n",
       "      <td>1309.31</td>\n",
       "      <td>116861.55</td>\n",
       "    </tr>\n",
       "    <tr>\n",
       "      <th>8</th>\n",
       "      <td>109884.91</td>\n",
       "      <td>51.57</td>\n",
       "      <td>109936.48</td>\n",
       "    </tr>\n",
       "    <tr>\n",
       "      <th>9</th>\n",
       "      <td>122194.07</td>\n",
       "      <td>1684.61</td>\n",
       "      <td>123878.68</td>\n",
       "    </tr>\n",
       "    <tr>\n",
       "      <th>10</th>\n",
       "      <td>118509.03</td>\n",
       "      <td>1785.94</td>\n",
       "      <td>120294.97</td>\n",
       "    </tr>\n",
       "    <tr>\n",
       "      <th>11</th>\n",
       "      <td>103039.10</td>\n",
       "      <td>1416.61</td>\n",
       "      <td>104455.71</td>\n",
       "    </tr>\n",
       "    <tr>\n",
       "      <th>12</th>\n",
       "      <td>101696.02</td>\n",
       "      <td>62.88</td>\n",
       "      <td>101758.90</td>\n",
       "    </tr>\n",
       "    <tr>\n",
       "      <th>13</th>\n",
       "      <td>136975.60</td>\n",
       "      <td>1737.38</td>\n",
       "      <td>138712.98</td>\n",
       "    </tr>\n",
       "    <tr>\n",
       "      <th>14</th>\n",
       "      <td>102401.26</td>\n",
       "      <td>1544.57</td>\n",
       "      <td>103945.83</td>\n",
       "    </tr>\n",
       "    <tr>\n",
       "      <th>15</th>\n",
       "      <td>102747.36</td>\n",
       "      <td>101.50</td>\n",
       "      <td>102848.86</td>\n",
       "    </tr>\n",
       "    <tr>\n",
       "      <th>16</th>\n",
       "      <td>136836.70</td>\n",
       "      <td>1908.25</td>\n",
       "      <td>138744.95</td>\n",
       "    </tr>\n",
       "    <tr>\n",
       "      <th>17</th>\n",
       "      <td>107029.89</td>\n",
       "      <td>101.50</td>\n",
       "      <td>107131.39</td>\n",
       "    </tr>\n",
       "    <tr>\n",
       "      <th>18</th>\n",
       "      <td>112426.80</td>\n",
       "      <td>0.00</td>\n",
       "      <td>112426.80</td>\n",
       "    </tr>\n",
       "    <tr>\n",
       "      <th>19</th>\n",
       "      <td>101642.00</td>\n",
       "      <td>101.50</td>\n",
       "      <td>101743.50</td>\n",
       "    </tr>\n",
       "    <tr>\n",
       "      <th>20</th>\n",
       "      <td>143709.95</td>\n",
       "      <td>1861.71</td>\n",
       "      <td>145571.66</td>\n",
       "    </tr>\n",
       "    <tr>\n",
       "      <th>21</th>\n",
       "      <td>143454.74</td>\n",
       "      <td>1921.28</td>\n",
       "      <td>145376.02</td>\n",
       "    </tr>\n",
       "    <tr>\n",
       "      <th>22</th>\n",
       "      <td>101696.01</td>\n",
       "      <td>62.88</td>\n",
       "      <td>101758.89</td>\n",
       "    </tr>\n",
       "    <tr>\n",
       "      <th>23</th>\n",
       "      <td>101696.02</td>\n",
       "      <td>62.88</td>\n",
       "      <td>101758.90</td>\n",
       "    </tr>\n",
       "    <tr>\n",
       "      <th>24</th>\n",
       "      <td>143925.38</td>\n",
       "      <td>1749.76</td>\n",
       "      <td>145675.14</td>\n",
       "    </tr>\n",
       "    <tr>\n",
       "      <th>25</th>\n",
       "      <td>103253.26</td>\n",
       "      <td>1604.71</td>\n",
       "      <td>104857.97</td>\n",
       "    </tr>\n",
       "    <tr>\n",
       "      <th>26</th>\n",
       "      <td>154075.48</td>\n",
       "      <td>1943.36</td>\n",
       "      <td>156018.84</td>\n",
       "    </tr>\n",
       "    <tr>\n",
       "      <th>27</th>\n",
       "      <td>130360.61</td>\n",
       "      <td>1737.38</td>\n",
       "      <td>132097.99</td>\n",
       "    </tr>\n",
       "    <tr>\n",
       "      <th>28</th>\n",
       "      <td>102401.26</td>\n",
       "      <td>1421.48</td>\n",
       "      <td>103822.74</td>\n",
       "    </tr>\n",
       "    <tr>\n",
       "      <th>29</th>\n",
       "      <td>115561.14</td>\n",
       "      <td>51.57</td>\n",
       "      <td>115612.71</td>\n",
       "    </tr>\n",
       "    <tr>\n",
       "      <th>...</th>\n",
       "      <td>...</td>\n",
       "      <td>...</td>\n",
       "      <td>...</td>\n",
       "    </tr>\n",
       "    <tr>\n",
       "      <th>118224</th>\n",
       "      <td>102040.96</td>\n",
       "      <td>1932.46</td>\n",
       "      <td>103973.42</td>\n",
       "    </tr>\n",
       "    <tr>\n",
       "      <th>118225</th>\n",
       "      <td>136353.46</td>\n",
       "      <td>448.14</td>\n",
       "      <td>136801.60</td>\n",
       "    </tr>\n",
       "    <tr>\n",
       "      <th>118226</th>\n",
       "      <td>265412.08</td>\n",
       "      <td>201.90</td>\n",
       "      <td>265613.98</td>\n",
       "    </tr>\n",
       "    <tr>\n",
       "      <th>118227</th>\n",
       "      <td>146231.52</td>\n",
       "      <td>448.14</td>\n",
       "      <td>146679.66</td>\n",
       "    </tr>\n",
       "    <tr>\n",
       "      <th>118228</th>\n",
       "      <td>129478.98</td>\n",
       "      <td>223.80</td>\n",
       "      <td>129702.78</td>\n",
       "    </tr>\n",
       "    <tr>\n",
       "      <th>118229</th>\n",
       "      <td>117979.50</td>\n",
       "      <td>422.22</td>\n",
       "      <td>118401.72</td>\n",
       "    </tr>\n",
       "    <tr>\n",
       "      <th>118230</th>\n",
       "      <td>175145.08</td>\n",
       "      <td>223.80</td>\n",
       "      <td>175368.88</td>\n",
       "    </tr>\n",
       "    <tr>\n",
       "      <th>118231</th>\n",
       "      <td>102602.50</td>\n",
       "      <td>165.60</td>\n",
       "      <td>102768.10</td>\n",
       "    </tr>\n",
       "    <tr>\n",
       "      <th>118232</th>\n",
       "      <td>101455.50</td>\n",
       "      <td>181.32</td>\n",
       "      <td>101636.82</td>\n",
       "    </tr>\n",
       "    <tr>\n",
       "      <th>118233</th>\n",
       "      <td>162478.22</td>\n",
       "      <td>1823.80</td>\n",
       "      <td>164302.02</td>\n",
       "    </tr>\n",
       "    <tr>\n",
       "      <th>118234</th>\n",
       "      <td>111705.54</td>\n",
       "      <td>316.06</td>\n",
       "      <td>112021.60</td>\n",
       "    </tr>\n",
       "    <tr>\n",
       "      <th>118235</th>\n",
       "      <td>127794.99</td>\n",
       "      <td>448.14</td>\n",
       "      <td>128243.13</td>\n",
       "    </tr>\n",
       "    <tr>\n",
       "      <th>118236</th>\n",
       "      <td>133984.50</td>\n",
       "      <td>3472.62</td>\n",
       "      <td>137457.12</td>\n",
       "    </tr>\n",
       "    <tr>\n",
       "      <th>118237</th>\n",
       "      <td>177119.04</td>\n",
       "      <td>223.80</td>\n",
       "      <td>177342.84</td>\n",
       "    </tr>\n",
       "    <tr>\n",
       "      <th>118238</th>\n",
       "      <td>203215.50</td>\n",
       "      <td>223.80</td>\n",
       "      <td>203439.30</td>\n",
       "    </tr>\n",
       "    <tr>\n",
       "      <th>118239</th>\n",
       "      <td>103318.33</td>\n",
       "      <td>184.76</td>\n",
       "      <td>103503.09</td>\n",
       "    </tr>\n",
       "    <tr>\n",
       "      <th>118240</th>\n",
       "      <td>104175.44</td>\n",
       "      <td>498.78</td>\n",
       "      <td>104674.22</td>\n",
       "    </tr>\n",
       "    <tr>\n",
       "      <th>118241</th>\n",
       "      <td>106068.54</td>\n",
       "      <td>379.98</td>\n",
       "      <td>106448.52</td>\n",
       "    </tr>\n",
       "    <tr>\n",
       "      <th>118242</th>\n",
       "      <td>106578.00</td>\n",
       "      <td>560.62</td>\n",
       "      <td>107138.62</td>\n",
       "    </tr>\n",
       "    <tr>\n",
       "      <th>118243</th>\n",
       "      <td>107138.95</td>\n",
       "      <td>371.34</td>\n",
       "      <td>107510.29</td>\n",
       "    </tr>\n",
       "    <tr>\n",
       "      <th>118244</th>\n",
       "      <td>181293.48</td>\n",
       "      <td>223.80</td>\n",
       "      <td>181517.28</td>\n",
       "    </tr>\n",
       "    <tr>\n",
       "      <th>118245</th>\n",
       "      <td>141085.98</td>\n",
       "      <td>223.80</td>\n",
       "      <td>141309.78</td>\n",
       "    </tr>\n",
       "    <tr>\n",
       "      <th>118246</th>\n",
       "      <td>206688.19</td>\n",
       "      <td>223.80</td>\n",
       "      <td>206911.99</td>\n",
       "    </tr>\n",
       "    <tr>\n",
       "      <th>118247</th>\n",
       "      <td>101644.50</td>\n",
       "      <td>181.62</td>\n",
       "      <td>101826.12</td>\n",
       "    </tr>\n",
       "    <tr>\n",
       "      <th>118248</th>\n",
       "      <td>230857.51</td>\n",
       "      <td>531.84</td>\n",
       "      <td>231389.35</td>\n",
       "    </tr>\n",
       "    <tr>\n",
       "      <th>118249</th>\n",
       "      <td>104927.39</td>\n",
       "      <td>201.36</td>\n",
       "      <td>105128.75</td>\n",
       "    </tr>\n",
       "    <tr>\n",
       "      <th>118250</th>\n",
       "      <td>158128.98</td>\n",
       "      <td>20631.84</td>\n",
       "      <td>178760.82</td>\n",
       "    </tr>\n",
       "    <tr>\n",
       "      <th>118251</th>\n",
       "      <td>309732.66</td>\n",
       "      <td>448.14</td>\n",
       "      <td>310180.80</td>\n",
       "    </tr>\n",
       "    <tr>\n",
       "      <th>118252</th>\n",
       "      <td>223714.97</td>\n",
       "      <td>223.80</td>\n",
       "      <td>223938.77</td>\n",
       "    </tr>\n",
       "    <tr>\n",
       "      <th>118253</th>\n",
       "      <td>343913.54</td>\n",
       "      <td>15999.66</td>\n",
       "      <td>359913.20</td>\n",
       "    </tr>\n",
       "  </tbody>\n",
       "</table>\n",
       "<p>118254 rows × 3 columns</p>\n",
       "</div>"
      ],
      "text/plain": [
       "        Salary Paid  Taxable Benefits  Total Earned\n",
       "0         197073.24           2033.69     199106.93\n",
       "1         118650.76           1250.00     119900.76\n",
       "2         124307.70           1264.54     125572.24\n",
       "3         100208.66             62.88     100271.54\n",
       "4         105838.90             62.88     105901.78\n",
       "5         101696.02            101.50     101797.52\n",
       "6         121814.19           1688.54     123502.73\n",
       "7         115552.24           1309.31     116861.55\n",
       "8         109884.91             51.57     109936.48\n",
       "9         122194.07           1684.61     123878.68\n",
       "10        118509.03           1785.94     120294.97\n",
       "11        103039.10           1416.61     104455.71\n",
       "12        101696.02             62.88     101758.90\n",
       "13        136975.60           1737.38     138712.98\n",
       "14        102401.26           1544.57     103945.83\n",
       "15        102747.36            101.50     102848.86\n",
       "16        136836.70           1908.25     138744.95\n",
       "17        107029.89            101.50     107131.39\n",
       "18        112426.80              0.00     112426.80\n",
       "19        101642.00            101.50     101743.50\n",
       "20        143709.95           1861.71     145571.66\n",
       "21        143454.74           1921.28     145376.02\n",
       "22        101696.01             62.88     101758.89\n",
       "23        101696.02             62.88     101758.90\n",
       "24        143925.38           1749.76     145675.14\n",
       "25        103253.26           1604.71     104857.97\n",
       "26        154075.48           1943.36     156018.84\n",
       "27        130360.61           1737.38     132097.99\n",
       "28        102401.26           1421.48     103822.74\n",
       "29        115561.14             51.57     115612.71\n",
       "...             ...               ...           ...\n",
       "118224    102040.96           1932.46     103973.42\n",
       "118225    136353.46            448.14     136801.60\n",
       "118226    265412.08            201.90     265613.98\n",
       "118227    146231.52            448.14     146679.66\n",
       "118228    129478.98            223.80     129702.78\n",
       "118229    117979.50            422.22     118401.72\n",
       "118230    175145.08            223.80     175368.88\n",
       "118231    102602.50            165.60     102768.10\n",
       "118232    101455.50            181.32     101636.82\n",
       "118233    162478.22           1823.80     164302.02\n",
       "118234    111705.54            316.06     112021.60\n",
       "118235    127794.99            448.14     128243.13\n",
       "118236    133984.50           3472.62     137457.12\n",
       "118237    177119.04            223.80     177342.84\n",
       "118238    203215.50            223.80     203439.30\n",
       "118239    103318.33            184.76     103503.09\n",
       "118240    104175.44            498.78     104674.22\n",
       "118241    106068.54            379.98     106448.52\n",
       "118242    106578.00            560.62     107138.62\n",
       "118243    107138.95            371.34     107510.29\n",
       "118244    181293.48            223.80     181517.28\n",
       "118245    141085.98            223.80     141309.78\n",
       "118246    206688.19            223.80     206911.99\n",
       "118247    101644.50            181.62     101826.12\n",
       "118248    230857.51            531.84     231389.35\n",
       "118249    104927.39            201.36     105128.75\n",
       "118250    158128.98          20631.84     178760.82\n",
       "118251    309732.66            448.14     310180.80\n",
       "118252    223714.97            223.80     223938.77\n",
       "118253    343913.54          15999.66     359913.20\n",
       "\n",
       "[118254 rows x 3 columns]"
      ]
     },
     "execution_count": 47,
     "metadata": {},
     "output_type": "execute_result"
    }
   ],
   "source": [
    "data['Total Earned'] = data['Salary Paid'] + data['Taxable Benefits']\n",
    "data[['Salary Paid', 'Taxable Benefits', 'Total Earned']] # Select multiple columns using an array as input"
   ]
  },
  {
   "cell_type": "markdown",
   "metadata": {},
   "source": [
    "Let's go back to our task - finding highest earners and their gender. First - the top 10 highest earners."
   ]
  },
  {
   "cell_type": "code",
   "execution_count": 115,
   "metadata": {
    "scrolled": true
   },
   "outputs": [
    {
     "data": {
      "text/html": [
       "<div>\n",
       "<style scoped>\n",
       "    .dataframe tbody tr th:only-of-type {\n",
       "        vertical-align: middle;\n",
       "    }\n",
       "\n",
       "    .dataframe tbody tr th {\n",
       "        vertical-align: top;\n",
       "    }\n",
       "\n",
       "    .dataframe thead th {\n",
       "        text-align: right;\n",
       "    }\n",
       "</style>\n",
       "<table border=\"1\" class=\"dataframe\">\n",
       "  <thead>\n",
       "    <tr style=\"text-align: right;\">\n",
       "      <th></th>\n",
       "      <th>Sector</th>\n",
       "      <th>Last Name</th>\n",
       "      <th>First Name</th>\n",
       "      <th>Salary Paid</th>\n",
       "      <th>Taxable Benefits</th>\n",
       "      <th>Employer</th>\n",
       "      <th>Job Title</th>\n",
       "      <th>Gender</th>\n",
       "      <th>Total Earned</th>\n",
       "    </tr>\n",
       "  </thead>\n",
       "  <tbody>\n",
       "    <tr>\n",
       "      <th>76757</th>\n",
       "      <td>Ontario Power Generation</td>\n",
       "      <td>Lyash</td>\n",
       "      <td>Jeffrey</td>\n",
       "      <td>1554456.95</td>\n",
       "      <td>6864.00</td>\n",
       "      <td>Ontario Power Generation</td>\n",
       "      <td>President and Chief Executive Officer</td>\n",
       "      <td>m</td>\n",
       "      <td>1561320.95</td>\n",
       "    </tr>\n",
       "    <tr>\n",
       "      <th>117735</th>\n",
       "      <td>Universities</td>\n",
       "      <td>Smith</td>\n",
       "      <td>Daren</td>\n",
       "      <td>936089.48</td>\n",
       "      <td>448.14</td>\n",
       "      <td>University of Toronto</td>\n",
       "      <td>President and Chief Investment Officer, Univer...</td>\n",
       "      <td>m</td>\n",
       "      <td>936537.62</td>\n",
       "    </tr>\n",
       "    <tr>\n",
       "      <th>75968</th>\n",
       "      <td>Ontario Power Generation</td>\n",
       "      <td>Jager</td>\n",
       "      <td>Glenn</td>\n",
       "      <td>858445.43</td>\n",
       "      <td>4953.60</td>\n",
       "      <td>Ontario Power Generation</td>\n",
       "      <td>Nuclear President and Chief Nuclear Officer</td>\n",
       "      <td>m</td>\n",
       "      <td>863399.03</td>\n",
       "    </tr>\n",
       "    <tr>\n",
       "      <th>34108</th>\n",
       "      <td>Hospitals and Boards of Public Health</td>\n",
       "      <td>Pisters</td>\n",
       "      <td>Peter</td>\n",
       "      <td>718300.56</td>\n",
       "      <td>73157.10</td>\n",
       "      <td>University Health Network</td>\n",
       "      <td>President and Chief Executive Officer</td>\n",
       "      <td>m</td>\n",
       "      <td>791457.66</td>\n",
       "    </tr>\n",
       "    <tr>\n",
       "      <th>84911</th>\n",
       "      <td>Other Public Sector Employers</td>\n",
       "      <td>Campbell</td>\n",
       "      <td>Bruce</td>\n",
       "      <td>749862.59</td>\n",
       "      <td>255.56</td>\n",
       "      <td>Independent Electricity System Operator / Opér...</td>\n",
       "      <td>President and Chief Executive Officer / Présid...</td>\n",
       "      <td>m</td>\n",
       "      <td>750118.15</td>\n",
       "    </tr>\n",
       "    <tr>\n",
       "      <th>4061</th>\n",
       "      <td>Crown Agencies</td>\n",
       "      <td>Fuller</td>\n",
       "      <td>Mark</td>\n",
       "      <td>745211.84</td>\n",
       "      <td>682.13</td>\n",
       "      <td>Ontario Public Service Pension Board (Ontario ...</td>\n",
       "      <td>President and Chief Executive Officer / Présid...</td>\n",
       "      <td>m</td>\n",
       "      <td>745893.97</td>\n",
       "    </tr>\n",
       "    <tr>\n",
       "      <th>31919</th>\n",
       "      <td>Hospitals and Boards of Public Health</td>\n",
       "      <td>Zahn</td>\n",
       "      <td>Catherine</td>\n",
       "      <td>673541.20</td>\n",
       "      <td>71727.73</td>\n",
       "      <td>Centre For Addiction And Mental Health</td>\n",
       "      <td>President and Chief Executive Officer / Présid...</td>\n",
       "      <td>f</td>\n",
       "      <td>745268.93</td>\n",
       "    </tr>\n",
       "    <tr>\n",
       "      <th>24191</th>\n",
       "      <td>Hospitals and Boards of Public Health</td>\n",
       "      <td>Mclellan</td>\n",
       "      <td>Barry</td>\n",
       "      <td>704657.15</td>\n",
       "      <td>39218.16</td>\n",
       "      <td>Sunnybrook Health Sciences Centre</td>\n",
       "      <td>President and Chief Executive Officer</td>\n",
       "      <td>m</td>\n",
       "      <td>743875.31</td>\n",
       "    </tr>\n",
       "    <tr>\n",
       "      <th>77146</th>\n",
       "      <td>Ontario Power Generation</td>\n",
       "      <td>Martin</td>\n",
       "      <td>Scott</td>\n",
       "      <td>739854.78</td>\n",
       "      <td>2434.00</td>\n",
       "      <td>Ontario Power Generation</td>\n",
       "      <td>Senior Vice President Business and Administrat...</td>\n",
       "      <td>m</td>\n",
       "      <td>742288.78</td>\n",
       "    </tr>\n",
       "    <tr>\n",
       "      <th>29821</th>\n",
       "      <td>Hospitals and Boards of Public Health</td>\n",
       "      <td>Apkon</td>\n",
       "      <td>Michael</td>\n",
       "      <td>719694.40</td>\n",
       "      <td>20586.28</td>\n",
       "      <td>The Hospital For Sick Children</td>\n",
       "      <td>President and Chief Executive Officer</td>\n",
       "      <td>m</td>\n",
       "      <td>740280.68</td>\n",
       "    </tr>\n",
       "  </tbody>\n",
       "</table>\n",
       "</div>"
      ],
      "text/plain": [
       "                                       Sector Last Name First Name  \\\n",
       "76757                Ontario Power Generation     Lyash    Jeffrey   \n",
       "117735                           Universities     Smith      Daren   \n",
       "75968                Ontario Power Generation     Jager      Glenn   \n",
       "34108   Hospitals and Boards of Public Health   Pisters      Peter   \n",
       "84911           Other Public Sector Employers  Campbell      Bruce   \n",
       "4061                           Crown Agencies    Fuller       Mark   \n",
       "31919   Hospitals and Boards of Public Health      Zahn  Catherine   \n",
       "24191   Hospitals and Boards of Public Health  Mclellan      Barry   \n",
       "77146                Ontario Power Generation    Martin      Scott   \n",
       "29821   Hospitals and Boards of Public Health     Apkon    Michael   \n",
       "\n",
       "        Salary Paid  Taxable Benefits  \\\n",
       "76757    1554456.95           6864.00   \n",
       "117735    936089.48            448.14   \n",
       "75968     858445.43           4953.60   \n",
       "34108     718300.56          73157.10   \n",
       "84911     749862.59            255.56   \n",
       "4061      745211.84            682.13   \n",
       "31919     673541.20          71727.73   \n",
       "24191     704657.15          39218.16   \n",
       "77146     739854.78           2434.00   \n",
       "29821     719694.40          20586.28   \n",
       "\n",
       "                                                 Employer  \\\n",
       "76757                            Ontario Power Generation   \n",
       "117735                              University of Toronto   \n",
       "75968                            Ontario Power Generation   \n",
       "34108                           University Health Network   \n",
       "84911   Independent Electricity System Operator / Opér...   \n",
       "4061    Ontario Public Service Pension Board (Ontario ...   \n",
       "31919              Centre For Addiction And Mental Health   \n",
       "24191                   Sunnybrook Health Sciences Centre   \n",
       "77146                            Ontario Power Generation   \n",
       "29821                      The Hospital For Sick Children   \n",
       "\n",
       "                                                Job Title Gender  Total Earned  \n",
       "76757               President and Chief Executive Officer      m    1561320.95  \n",
       "117735  President and Chief Investment Officer, Univer...      m     936537.62  \n",
       "75968         Nuclear President and Chief Nuclear Officer      m     863399.03  \n",
       "34108               President and Chief Executive Officer      m     791457.66  \n",
       "84911   President and Chief Executive Officer / Présid...      m     750118.15  \n",
       "4061    President and Chief Executive Officer / Présid...      m     745893.97  \n",
       "31919   President and Chief Executive Officer / Présid...      f     745268.93  \n",
       "24191               President and Chief Executive Officer      m     743875.31  \n",
       "77146   Senior Vice President Business and Administrat...      m     742288.78  \n",
       "29821               President and Chief Executive Officer      m     740280.68  "
      ]
     },
     "execution_count": 115,
     "metadata": {},
     "output_type": "execute_result"
    }
   ],
   "source": [
    "top_10_earners = data.nlargest(10, 'Total Earned') \n",
    "top_10_earners"
   ]
  },
  {
   "cell_type": "markdown",
   "metadata": {},
   "source": [
    "Now to show just the gender of the top 10 earners"
   ]
  },
  {
   "cell_type": "code",
   "execution_count": 116,
   "metadata": {},
   "outputs": [
    {
     "data": {
      "text/plain": [
       "76757     m\n",
       "117735    m\n",
       "75968     m\n",
       "34108     m\n",
       "84911     m\n",
       "4061      m\n",
       "31919     f\n",
       "24191     m\n",
       "77146     m\n",
       "29821     m\n",
       "Name: Gender, dtype: object"
      ]
     },
     "execution_count": 116,
     "metadata": {},
     "output_type": "execute_result"
    }
   ],
   "source": [
    "top_10_earners_gender = top_10_earners['Gender']\n",
    "top_10_earners_gender"
   ]
  },
  {
   "cell_type": "markdown",
   "metadata": {},
   "source": [
    "As a reminder, the left column of ```top_10_earners``` shows the index of the value of the _original_ data. It's easy to see just by looking at the data that there is only one female in the top 10 earners.\n",
    "Let's expand our selection to the top 100 earners."
   ]
  },
  {
   "cell_type": "code",
   "execution_count": null,
   "metadata": {},
   "outputs": [],
   "source": [
    "top_100_earners = data.nlargest(100, 'Total Earned')"
   ]
  },
  {
   "cell_type": "markdown",
   "metadata": {},
   "source": [
    "This time, we'll use a _conditional selection_ to select all women in the top 100."
   ]
  },
  {
   "cell_type": "code",
   "execution_count": null,
   "metadata": {
    "scrolled": true
   },
   "outputs": [],
   "source": [
    "women_in_top_100 = top_100_earners[top_100_earners['Gender'] == 'f']\n",
    "women_in_top_100"
   ]
  },
  {
   "cell_type": "markdown",
   "metadata": {},
   "source": [
    "And because now we're working with more rows, it's a little inconvenient to manually count the number of females in the top 100 so we'll use the handy ```len()``` method."
   ]
  },
  {
   "cell_type": "code",
   "execution_count": null,
   "metadata": {},
   "outputs": [],
   "source": [
    "len(women_in_top_100)"
   ]
  },
  {
   "cell_type": "markdown",
   "metadata": {},
   "source": [
    "Task 1 complete! One woman in the top 10 and 22 in the top 100. \n",
    "## Task 2: Difference in average earnings by gender \n",
    "Let's first get the average earnings of the entire data set. This is an _aggregation_ method because it is turning many values into a single value."
   ]
  },
  {
   "cell_type": "code",
   "execution_count": 56,
   "metadata": {},
   "outputs": [
    {
     "data": {
      "text/plain": [
       "128373.29053807906"
      ]
     },
     "execution_count": 56,
     "metadata": {},
     "output_type": "execute_result"
    }
   ],
   "source": [
    "data['Total Earned'].mean()"
   ]
  },
  {
   "cell_type": "markdown",
   "metadata": {},
   "source": [
    "Now let's group by (```groupby()```) gender and take the mean again."
   ]
  },
  {
   "cell_type": "code",
   "execution_count": 70,
   "metadata": {},
   "outputs": [
    {
     "data": {
      "text/html": [
       "<div>\n",
       "<style scoped>\n",
       "    .dataframe tbody tr th:only-of-type {\n",
       "        vertical-align: middle;\n",
       "    }\n",
       "\n",
       "    .dataframe tbody tr th {\n",
       "        vertical-align: top;\n",
       "    }\n",
       "\n",
       "    .dataframe thead th {\n",
       "        text-align: right;\n",
       "    }\n",
       "</style>\n",
       "<table border=\"1\" class=\"dataframe\">\n",
       "  <thead>\n",
       "    <tr style=\"text-align: right;\">\n",
       "      <th></th>\n",
       "      <th>Total Earned</th>\n",
       "    </tr>\n",
       "    <tr>\n",
       "      <th>Gender</th>\n",
       "      <th></th>\n",
       "    </tr>\n",
       "  </thead>\n",
       "  <tbody>\n",
       "    <tr>\n",
       "      <th>f</th>\n",
       "      <td>124775.262528</td>\n",
       "    </tr>\n",
       "    <tr>\n",
       "      <th>m</th>\n",
       "      <td>130396.851497</td>\n",
       "    </tr>\n",
       "  </tbody>\n",
       "</table>\n",
       "</div>"
      ],
      "text/plain": [
       "         Total Earned\n",
       "Gender               \n",
       "f       124775.262528\n",
       "m       130396.851497"
      ]
     },
     "execution_count": 70,
     "metadata": {},
     "output_type": "execute_result"
    }
   ],
   "source": [
    "avg_earnings_gender = data[['Gender','Total Earned']].groupby('Gender').mean()\n",
    "avg_earnings_gender"
   ]
  },
  {
   "cell_type": "markdown",
   "metadata": {},
   "source": [
    "We have to select 'Total Earned' and the 'Gender' column so that we can group by gender. Groupby allows us to group together all the employees by gender\n",
    "\n",
    "Now to get the difference - another aggregation method - between male and female average earnings."
   ]
  },
  {
   "cell_type": "code",
   "execution_count": 62,
   "metadata": {
    "scrolled": true
   },
   "outputs": [
    {
     "data": {
      "text/html": [
       "<div>\n",
       "<style scoped>\n",
       "    .dataframe tbody tr th:only-of-type {\n",
       "        vertical-align: middle;\n",
       "    }\n",
       "\n",
       "    .dataframe tbody tr th {\n",
       "        vertical-align: top;\n",
       "    }\n",
       "\n",
       "    .dataframe thead th {\n",
       "        text-align: right;\n",
       "    }\n",
       "</style>\n",
       "<table border=\"1\" class=\"dataframe\">\n",
       "  <thead>\n",
       "    <tr style=\"text-align: right;\">\n",
       "      <th></th>\n",
       "      <th>Total Earned</th>\n",
       "    </tr>\n",
       "    <tr>\n",
       "      <th>Gender</th>\n",
       "      <th></th>\n",
       "    </tr>\n",
       "  </thead>\n",
       "  <tbody>\n",
       "    <tr>\n",
       "      <th>f</th>\n",
       "      <td>NaN</td>\n",
       "    </tr>\n",
       "    <tr>\n",
       "      <th>m</th>\n",
       "      <td>5621.588969</td>\n",
       "    </tr>\n",
       "  </tbody>\n",
       "</table>\n",
       "</div>"
      ],
      "text/plain": [
       "        Total Earned\n",
       "Gender              \n",
       "f                NaN\n",
       "m        5621.588969"
      ]
     },
     "execution_count": 62,
     "metadata": {},
     "output_type": "execute_result"
    }
   ],
   "source": [
    "avg_earnings_gender.diff()"
   ]
  },
  {
   "cell_type": "markdown",
   "metadata": {},
   "source": [
    "NaN stands for 'Not a Number'. Second task complete! Males have an average salary of $5621.59 more than females."
   ]
  },
  {
   "cell_type": "markdown",
   "metadata": {},
   "source": [
    "## Task 3: Difference in average earnings by gender *and sector*\n",
    "Let's start by looking at the different sectors."
   ]
  },
  {
   "cell_type": "code",
   "execution_count": null,
   "metadata": {},
   "outputs": [],
   "source": [
    "data.Sector.unique() "
   ]
  },
  {
   "cell_type": "markdown",
   "metadata": {},
   "source": [
    "There are a lot of sectors! Let's shorten the list by making all the seconded sectors 'Government of Ontario - Ministries'. Seconded means they are on temporary leave working for another department."
   ]
  },
  {
   "cell_type": "code",
   "execution_count": 65,
   "metadata": {},
   "outputs": [
    {
     "data": {
      "text/plain": [
       "array(['Colleges', 'Crown Agencies', 'Government of Ontario - Judiciary',\n",
       "       'Government of Ontario - Legislative Assembly and Offices',\n",
       "       'Government of Ontario - Ministries',\n",
       "       'Hospitals and Boards of Public Health',\n",
       "       'Municipalities and Services', 'Ontario Power Generation',\n",
       "       'Other Public Sector Employers', 'School Boards', 'Universities'],\n",
       "      dtype=object)"
      ]
     },
     "execution_count": 65,
     "metadata": {},
     "output_type": "execute_result"
    }
   ],
   "source": [
    "data['Sector'] = data['Sector'].str.strip()\n",
    "data['Sector'] = data['Sector'].str.replace(r'Seconded .*', 'Government of Ontario - Ministries')\n",
    "data.Sector.unique()"
   ]
  },
  {
   "cell_type": "markdown",
   "metadata": {},
   "source": [
    "Much better. Now to get the average earnings we'll group by gender *and sector*. We'll also include Sector in our selection at the beginning of the command. The structure is similar to what we did for the previous task."
   ]
  },
  {
   "cell_type": "code",
   "execution_count": 71,
   "metadata": {},
   "outputs": [
    {
     "data": {
      "text/html": [
       "<div>\n",
       "<style scoped>\n",
       "    .dataframe tbody tr th:only-of-type {\n",
       "        vertical-align: middle;\n",
       "    }\n",
       "\n",
       "    .dataframe tbody tr th {\n",
       "        vertical-align: top;\n",
       "    }\n",
       "\n",
       "    .dataframe thead th {\n",
       "        text-align: right;\n",
       "    }\n",
       "</style>\n",
       "<table border=\"1\" class=\"dataframe\">\n",
       "  <thead>\n",
       "    <tr style=\"text-align: right;\">\n",
       "      <th></th>\n",
       "      <th></th>\n",
       "      <th>Total Earned</th>\n",
       "    </tr>\n",
       "    <tr>\n",
       "      <th>Sector</th>\n",
       "      <th>Gender</th>\n",
       "      <th></th>\n",
       "    </tr>\n",
       "  </thead>\n",
       "  <tbody>\n",
       "    <tr>\n",
       "      <th rowspan=\"2\" valign=\"top\">Colleges</th>\n",
       "      <th>f</th>\n",
       "      <td>124281.451201</td>\n",
       "    </tr>\n",
       "    <tr>\n",
       "      <th>m</th>\n",
       "      <td>123681.693456</td>\n",
       "    </tr>\n",
       "    <tr>\n",
       "      <th rowspan=\"2\" valign=\"top\">Crown Agencies</th>\n",
       "      <th>f</th>\n",
       "      <td>133111.734721</td>\n",
       "    </tr>\n",
       "    <tr>\n",
       "      <th>m</th>\n",
       "      <td>135984.771725</td>\n",
       "    </tr>\n",
       "    <tr>\n",
       "      <th rowspan=\"2\" valign=\"top\">Government of Ontario - Judiciary</th>\n",
       "      <th>f</th>\n",
       "      <td>202611.767186</td>\n",
       "    </tr>\n",
       "    <tr>\n",
       "      <th>m</th>\n",
       "      <td>212354.182011</td>\n",
       "    </tr>\n",
       "    <tr>\n",
       "      <th rowspan=\"2\" valign=\"top\">Government of Ontario - Legislative Assembly and Offices</th>\n",
       "      <th>f</th>\n",
       "      <td>132906.535263</td>\n",
       "    </tr>\n",
       "    <tr>\n",
       "      <th>m</th>\n",
       "      <td>137465.549390</td>\n",
       "    </tr>\n",
       "    <tr>\n",
       "      <th rowspan=\"2\" valign=\"top\">Government of Ontario - Ministries</th>\n",
       "      <th>f</th>\n",
       "      <td>125562.113669</td>\n",
       "    </tr>\n",
       "    <tr>\n",
       "      <th>m</th>\n",
       "      <td>125807.128850</td>\n",
       "    </tr>\n",
       "    <tr>\n",
       "      <th rowspan=\"2\" valign=\"top\">Hospitals and Boards of Public Health</th>\n",
       "      <th>f</th>\n",
       "      <td>121655.496134</td>\n",
       "    </tr>\n",
       "    <tr>\n",
       "      <th>m</th>\n",
       "      <td>138749.141912</td>\n",
       "    </tr>\n",
       "    <tr>\n",
       "      <th rowspan=\"2\" valign=\"top\">Municipalities and Services</th>\n",
       "      <th>f</th>\n",
       "      <td>119801.259635</td>\n",
       "    </tr>\n",
       "    <tr>\n",
       "      <th>m</th>\n",
       "      <td>121032.473322</td>\n",
       "    </tr>\n",
       "    <tr>\n",
       "      <th rowspan=\"2\" valign=\"top\">Ontario Power Generation</th>\n",
       "      <th>f</th>\n",
       "      <td>135779.720366</td>\n",
       "    </tr>\n",
       "    <tr>\n",
       "      <th>m</th>\n",
       "      <td>148580.356064</td>\n",
       "    </tr>\n",
       "    <tr>\n",
       "      <th rowspan=\"2\" valign=\"top\">Other Public Sector Employers</th>\n",
       "      <th>f</th>\n",
       "      <td>127812.365644</td>\n",
       "    </tr>\n",
       "    <tr>\n",
       "      <th>m</th>\n",
       "      <td>139912.899982</td>\n",
       "    </tr>\n",
       "    <tr>\n",
       "      <th rowspan=\"2\" valign=\"top\">School Boards</th>\n",
       "      <th>f</th>\n",
       "      <td>112449.624494</td>\n",
       "    </tr>\n",
       "    <tr>\n",
       "      <th>m</th>\n",
       "      <td>113423.770089</td>\n",
       "    </tr>\n",
       "    <tr>\n",
       "      <th rowspan=\"2\" valign=\"top\">Universities</th>\n",
       "      <th>f</th>\n",
       "      <td>144201.868447</td>\n",
       "    </tr>\n",
       "    <tr>\n",
       "      <th>m</th>\n",
       "      <td>156127.960212</td>\n",
       "    </tr>\n",
       "  </tbody>\n",
       "</table>\n",
       "</div>"
      ],
      "text/plain": [
       "                                                            Total Earned\n",
       "Sector                                             Gender               \n",
       "Colleges                                           f       124281.451201\n",
       "                                                   m       123681.693456\n",
       "Crown Agencies                                     f       133111.734721\n",
       "                                                   m       135984.771725\n",
       "Government of Ontario - Judiciary                  f       202611.767186\n",
       "                                                   m       212354.182011\n",
       "Government of Ontario - Legislative Assembly an... f       132906.535263\n",
       "                                                   m       137465.549390\n",
       "Government of Ontario - Ministries                 f       125562.113669\n",
       "                                                   m       125807.128850\n",
       "Hospitals and Boards of Public Health              f       121655.496134\n",
       "                                                   m       138749.141912\n",
       "Municipalities and Services                        f       119801.259635\n",
       "                                                   m       121032.473322\n",
       "Ontario Power Generation                           f       135779.720366\n",
       "                                                   m       148580.356064\n",
       "Other Public Sector Employers                      f       127812.365644\n",
       "                                                   m       139912.899982\n",
       "School Boards                                      f       112449.624494\n",
       "                                                   m       113423.770089\n",
       "Universities                                       f       144201.868447\n",
       "                                                   m       156127.960212"
      ]
     },
     "execution_count": 71,
     "metadata": {},
     "output_type": "execute_result"
    }
   ],
   "source": [
    "avg_earnings_sector_gender = data[['Sector', 'Gender', 'Total Earned']].groupby(['Sector', 'Gender']).mean()\n",
    "avg_earnings_sector_gender"
   ]
  },
  {
   "cell_type": "markdown",
   "metadata": {},
   "source": [
    "Let's get the difference again."
   ]
  },
  {
   "cell_type": "code",
   "execution_count": 74,
   "metadata": {},
   "outputs": [
    {
     "data": {
      "text/html": [
       "<div>\n",
       "<style scoped>\n",
       "    .dataframe tbody tr th:only-of-type {\n",
       "        vertical-align: middle;\n",
       "    }\n",
       "\n",
       "    .dataframe tbody tr th {\n",
       "        vertical-align: top;\n",
       "    }\n",
       "\n",
       "    .dataframe thead th {\n",
       "        text-align: right;\n",
       "    }\n",
       "</style>\n",
       "<table border=\"1\" class=\"dataframe\">\n",
       "  <thead>\n",
       "    <tr style=\"text-align: right;\">\n",
       "      <th></th>\n",
       "      <th></th>\n",
       "      <th>Total Earned</th>\n",
       "    </tr>\n",
       "    <tr>\n",
       "      <th>Sector</th>\n",
       "      <th>Gender</th>\n",
       "      <th></th>\n",
       "    </tr>\n",
       "  </thead>\n",
       "  <tbody>\n",
       "    <tr>\n",
       "      <th rowspan=\"2\" valign=\"top\">Colleges</th>\n",
       "      <th>f</th>\n",
       "      <td>NaN</td>\n",
       "    </tr>\n",
       "    <tr>\n",
       "      <th>m</th>\n",
       "      <td>-599.757745</td>\n",
       "    </tr>\n",
       "    <tr>\n",
       "      <th rowspan=\"2\" valign=\"top\">Crown Agencies</th>\n",
       "      <th>f</th>\n",
       "      <td>9430.041264</td>\n",
       "    </tr>\n",
       "    <tr>\n",
       "      <th>m</th>\n",
       "      <td>2873.037004</td>\n",
       "    </tr>\n",
       "    <tr>\n",
       "      <th rowspan=\"2\" valign=\"top\">Government of Ontario - Judiciary</th>\n",
       "      <th>f</th>\n",
       "      <td>66626.995461</td>\n",
       "    </tr>\n",
       "    <tr>\n",
       "      <th>m</th>\n",
       "      <td>9742.414825</td>\n",
       "    </tr>\n",
       "    <tr>\n",
       "      <th rowspan=\"2\" valign=\"top\">Government of Ontario - Legislative Assembly and Offices</th>\n",
       "      <th>f</th>\n",
       "      <td>-79447.646748</td>\n",
       "    </tr>\n",
       "    <tr>\n",
       "      <th>m</th>\n",
       "      <td>4559.014127</td>\n",
       "    </tr>\n",
       "    <tr>\n",
       "      <th rowspan=\"2\" valign=\"top\">Government of Ontario - Ministries</th>\n",
       "      <th>f</th>\n",
       "      <td>-11903.435721</td>\n",
       "    </tr>\n",
       "    <tr>\n",
       "      <th>m</th>\n",
       "      <td>245.015180</td>\n",
       "    </tr>\n",
       "    <tr>\n",
       "      <th rowspan=\"2\" valign=\"top\">Hospitals and Boards of Public Health</th>\n",
       "      <th>f</th>\n",
       "      <td>-4151.632715</td>\n",
       "    </tr>\n",
       "    <tr>\n",
       "      <th>m</th>\n",
       "      <td>17093.645778</td>\n",
       "    </tr>\n",
       "    <tr>\n",
       "      <th rowspan=\"2\" valign=\"top\">Municipalities and Services</th>\n",
       "      <th>f</th>\n",
       "      <td>-18947.882277</td>\n",
       "    </tr>\n",
       "    <tr>\n",
       "      <th>m</th>\n",
       "      <td>1231.213687</td>\n",
       "    </tr>\n",
       "    <tr>\n",
       "      <th rowspan=\"2\" valign=\"top\">Ontario Power Generation</th>\n",
       "      <th>f</th>\n",
       "      <td>14747.247043</td>\n",
       "    </tr>\n",
       "    <tr>\n",
       "      <th>m</th>\n",
       "      <td>12800.635698</td>\n",
       "    </tr>\n",
       "    <tr>\n",
       "      <th rowspan=\"2\" valign=\"top\">Other Public Sector Employers</th>\n",
       "      <th>f</th>\n",
       "      <td>-20767.990420</td>\n",
       "    </tr>\n",
       "    <tr>\n",
       "      <th>m</th>\n",
       "      <td>12100.534338</td>\n",
       "    </tr>\n",
       "    <tr>\n",
       "      <th rowspan=\"2\" valign=\"top\">School Boards</th>\n",
       "      <th>f</th>\n",
       "      <td>-27463.275488</td>\n",
       "    </tr>\n",
       "    <tr>\n",
       "      <th>m</th>\n",
       "      <td>974.145595</td>\n",
       "    </tr>\n",
       "    <tr>\n",
       "      <th rowspan=\"2\" valign=\"top\">Universities</th>\n",
       "      <th>f</th>\n",
       "      <td>30778.098358</td>\n",
       "    </tr>\n",
       "    <tr>\n",
       "      <th>m</th>\n",
       "      <td>11926.091765</td>\n",
       "    </tr>\n",
       "  </tbody>\n",
       "</table>\n",
       "</div>"
      ],
      "text/plain": [
       "                                                           Total Earned\n",
       "Sector                                             Gender              \n",
       "Colleges                                           f                NaN\n",
       "                                                   m        -599.757745\n",
       "Crown Agencies                                     f        9430.041264\n",
       "                                                   m        2873.037004\n",
       "Government of Ontario - Judiciary                  f       66626.995461\n",
       "                                                   m        9742.414825\n",
       "Government of Ontario - Legislative Assembly an... f      -79447.646748\n",
       "                                                   m        4559.014127\n",
       "Government of Ontario - Ministries                 f      -11903.435721\n",
       "                                                   m         245.015180\n",
       "Hospitals and Boards of Public Health              f       -4151.632715\n",
       "                                                   m       17093.645778\n",
       "Municipalities and Services                        f      -18947.882277\n",
       "                                                   m        1231.213687\n",
       "Ontario Power Generation                           f       14747.247043\n",
       "                                                   m       12800.635698\n",
       "Other Public Sector Employers                      f      -20767.990420\n",
       "                                                   m       12100.534338\n",
       "School Boards                                      f      -27463.275488\n",
       "                                                   m         974.145595\n",
       "Universities                                       f       30778.098358\n",
       "                                                   m       11926.091765"
      ]
     },
     "execution_count": 74,
     "metadata": {},
     "output_type": "execute_result"
    }
   ],
   "source": [
    "avg_earnings_sector_gender_diff = avg_earnings_sector_gender.diff()\n",
    "avg_earnings_sector_gender_diff"
   ]
  },
  {
   "cell_type": "markdown",
   "metadata": {},
   "source": [
    "Hmm.. this isn't a very good format. All the 'm' rows show the differences within a sector, but the 'f' rows show differences between the current and previous sector - not useful. Let's try and select only the 'm' rows using ```iloc[]```, or _integer location_."
   ]
  },
  {
   "cell_type": "code",
   "execution_count": 82,
   "metadata": {},
   "outputs": [
    {
     "data": {
      "text/plain": [
       "Total Earned   NaN\n",
       "Name: (Colleges, f), dtype: float64"
      ]
     },
     "execution_count": 82,
     "metadata": {},
     "output_type": "execute_result"
    }
   ],
   "source": [
    "avg_earnings_sector_gender_diff.iloc[0]"
   ]
  },
  {
   "cell_type": "code",
   "execution_count": 83,
   "metadata": {},
   "outputs": [
    {
     "data": {
      "text/plain": [
       "Total Earned   -599.757745\n",
       "Name: (Colleges, m), dtype: float64"
      ]
     },
     "execution_count": 83,
     "metadata": {},
     "output_type": "execute_result"
    }
   ],
   "source": [
    "avg_earnings_sector_gender_diff.iloc[1]"
   ]
  },
  {
   "cell_type": "code",
   "execution_count": 84,
   "metadata": {},
   "outputs": [
    {
     "data": {
      "text/html": [
       "<div>\n",
       "<style scoped>\n",
       "    .dataframe tbody tr th:only-of-type {\n",
       "        vertical-align: middle;\n",
       "    }\n",
       "\n",
       "    .dataframe tbody tr th {\n",
       "        vertical-align: top;\n",
       "    }\n",
       "\n",
       "    .dataframe thead th {\n",
       "        text-align: right;\n",
       "    }\n",
       "</style>\n",
       "<table border=\"1\" class=\"dataframe\">\n",
       "  <thead>\n",
       "    <tr style=\"text-align: right;\">\n",
       "      <th></th>\n",
       "      <th></th>\n",
       "      <th>Total Earned</th>\n",
       "    </tr>\n",
       "    <tr>\n",
       "      <th>Sector</th>\n",
       "      <th>Gender</th>\n",
       "      <th></th>\n",
       "    </tr>\n",
       "  </thead>\n",
       "  <tbody>\n",
       "    <tr>\n",
       "      <th>Colleges</th>\n",
       "      <th>m</th>\n",
       "      <td>-599.757745</td>\n",
       "    </tr>\n",
       "    <tr>\n",
       "      <th rowspan=\"2\" valign=\"top\">Crown Agencies</th>\n",
       "      <th>f</th>\n",
       "      <td>9430.041264</td>\n",
       "    </tr>\n",
       "    <tr>\n",
       "      <th>m</th>\n",
       "      <td>2873.037004</td>\n",
       "    </tr>\n",
       "    <tr>\n",
       "      <th rowspan=\"2\" valign=\"top\">Government of Ontario - Judiciary</th>\n",
       "      <th>f</th>\n",
       "      <td>66626.995461</td>\n",
       "    </tr>\n",
       "    <tr>\n",
       "      <th>m</th>\n",
       "      <td>9742.414825</td>\n",
       "    </tr>\n",
       "    <tr>\n",
       "      <th rowspan=\"2\" valign=\"top\">Government of Ontario - Legislative Assembly and Offices</th>\n",
       "      <th>f</th>\n",
       "      <td>-79447.646748</td>\n",
       "    </tr>\n",
       "    <tr>\n",
       "      <th>m</th>\n",
       "      <td>4559.014127</td>\n",
       "    </tr>\n",
       "    <tr>\n",
       "      <th rowspan=\"2\" valign=\"top\">Government of Ontario - Ministries</th>\n",
       "      <th>f</th>\n",
       "      <td>-11903.435721</td>\n",
       "    </tr>\n",
       "    <tr>\n",
       "      <th>m</th>\n",
       "      <td>245.015180</td>\n",
       "    </tr>\n",
       "    <tr>\n",
       "      <th rowspan=\"2\" valign=\"top\">Hospitals and Boards of Public Health</th>\n",
       "      <th>f</th>\n",
       "      <td>-4151.632715</td>\n",
       "    </tr>\n",
       "    <tr>\n",
       "      <th>m</th>\n",
       "      <td>17093.645778</td>\n",
       "    </tr>\n",
       "    <tr>\n",
       "      <th rowspan=\"2\" valign=\"top\">Municipalities and Services</th>\n",
       "      <th>f</th>\n",
       "      <td>-18947.882277</td>\n",
       "    </tr>\n",
       "    <tr>\n",
       "      <th>m</th>\n",
       "      <td>1231.213687</td>\n",
       "    </tr>\n",
       "    <tr>\n",
       "      <th rowspan=\"2\" valign=\"top\">Ontario Power Generation</th>\n",
       "      <th>f</th>\n",
       "      <td>14747.247043</td>\n",
       "    </tr>\n",
       "    <tr>\n",
       "      <th>m</th>\n",
       "      <td>12800.635698</td>\n",
       "    </tr>\n",
       "    <tr>\n",
       "      <th rowspan=\"2\" valign=\"top\">Other Public Sector Employers</th>\n",
       "      <th>f</th>\n",
       "      <td>-20767.990420</td>\n",
       "    </tr>\n",
       "    <tr>\n",
       "      <th>m</th>\n",
       "      <td>12100.534338</td>\n",
       "    </tr>\n",
       "    <tr>\n",
       "      <th rowspan=\"2\" valign=\"top\">School Boards</th>\n",
       "      <th>f</th>\n",
       "      <td>-27463.275488</td>\n",
       "    </tr>\n",
       "    <tr>\n",
       "      <th>m</th>\n",
       "      <td>974.145595</td>\n",
       "    </tr>\n",
       "    <tr>\n",
       "      <th rowspan=\"2\" valign=\"top\">Universities</th>\n",
       "      <th>f</th>\n",
       "      <td>30778.098358</td>\n",
       "    </tr>\n",
       "    <tr>\n",
       "      <th>m</th>\n",
       "      <td>11926.091765</td>\n",
       "    </tr>\n",
       "  </tbody>\n",
       "</table>\n",
       "</div>"
      ],
      "text/plain": [
       "                                                           Total Earned\n",
       "Sector                                             Gender              \n",
       "Colleges                                           m        -599.757745\n",
       "Crown Agencies                                     f        9430.041264\n",
       "                                                   m        2873.037004\n",
       "Government of Ontario - Judiciary                  f       66626.995461\n",
       "                                                   m        9742.414825\n",
       "Government of Ontario - Legislative Assembly an... f      -79447.646748\n",
       "                                                   m        4559.014127\n",
       "Government of Ontario - Ministries                 f      -11903.435721\n",
       "                                                   m         245.015180\n",
       "Hospitals and Boards of Public Health              f       -4151.632715\n",
       "                                                   m       17093.645778\n",
       "Municipalities and Services                        f      -18947.882277\n",
       "                                                   m        1231.213687\n",
       "Ontario Power Generation                           f       14747.247043\n",
       "                                                   m       12800.635698\n",
       "Other Public Sector Employers                      f      -20767.990420\n",
       "                                                   m       12100.534338\n",
       "School Boards                                      f      -27463.275488\n",
       "                                                   m         974.145595\n",
       "Universities                                       f       30778.098358\n",
       "                                                   m       11926.091765"
      ]
     },
     "execution_count": 84,
     "metadata": {},
     "output_type": "execute_result"
    }
   ],
   "source": [
    "avg_earnings_sector_gender_diff.iloc[1:]"
   ]
  },
  {
   "cell_type": "code",
   "execution_count": 108,
   "metadata": {},
   "outputs": [
    {
     "data": {
      "text/html": [
       "<div>\n",
       "<style scoped>\n",
       "    .dataframe tbody tr th:only-of-type {\n",
       "        vertical-align: middle;\n",
       "    }\n",
       "\n",
       "    .dataframe tbody tr th {\n",
       "        vertical-align: top;\n",
       "    }\n",
       "\n",
       "    .dataframe thead th {\n",
       "        text-align: right;\n",
       "    }\n",
       "</style>\n",
       "<table border=\"1\" class=\"dataframe\">\n",
       "  <thead>\n",
       "    <tr style=\"text-align: right;\">\n",
       "      <th></th>\n",
       "      <th></th>\n",
       "      <th>Total Earned</th>\n",
       "    </tr>\n",
       "    <tr>\n",
       "      <th>Sector</th>\n",
       "      <th>Gender</th>\n",
       "      <th></th>\n",
       "    </tr>\n",
       "  </thead>\n",
       "  <tbody>\n",
       "    <tr>\n",
       "      <th>Colleges</th>\n",
       "      <th>m</th>\n",
       "      <td>-599.757745</td>\n",
       "    </tr>\n",
       "    <tr>\n",
       "      <th>Crown Agencies</th>\n",
       "      <th>m</th>\n",
       "      <td>2873.037004</td>\n",
       "    </tr>\n",
       "    <tr>\n",
       "      <th>Government of Ontario - Judiciary</th>\n",
       "      <th>m</th>\n",
       "      <td>9742.414825</td>\n",
       "    </tr>\n",
       "    <tr>\n",
       "      <th>Government of Ontario - Legislative Assembly and Offices</th>\n",
       "      <th>m</th>\n",
       "      <td>4559.014127</td>\n",
       "    </tr>\n",
       "    <tr>\n",
       "      <th>Government of Ontario - Ministries</th>\n",
       "      <th>m</th>\n",
       "      <td>245.015180</td>\n",
       "    </tr>\n",
       "    <tr>\n",
       "      <th>Hospitals and Boards of Public Health</th>\n",
       "      <th>m</th>\n",
       "      <td>17093.645778</td>\n",
       "    </tr>\n",
       "    <tr>\n",
       "      <th>Municipalities and Services</th>\n",
       "      <th>m</th>\n",
       "      <td>1231.213687</td>\n",
       "    </tr>\n",
       "    <tr>\n",
       "      <th>Ontario Power Generation</th>\n",
       "      <th>m</th>\n",
       "      <td>12800.635698</td>\n",
       "    </tr>\n",
       "    <tr>\n",
       "      <th>Other Public Sector Employers</th>\n",
       "      <th>m</th>\n",
       "      <td>12100.534338</td>\n",
       "    </tr>\n",
       "    <tr>\n",
       "      <th>School Boards</th>\n",
       "      <th>m</th>\n",
       "      <td>974.145595</td>\n",
       "    </tr>\n",
       "    <tr>\n",
       "      <th>Universities</th>\n",
       "      <th>m</th>\n",
       "      <td>11926.091765</td>\n",
       "    </tr>\n",
       "  </tbody>\n",
       "</table>\n",
       "</div>"
      ],
      "text/plain": [
       "                                                           Total Earned\n",
       "Sector                                             Gender              \n",
       "Colleges                                           m        -599.757745\n",
       "Crown Agencies                                     m        2873.037004\n",
       "Government of Ontario - Judiciary                  m        9742.414825\n",
       "Government of Ontario - Legislative Assembly an... m        4559.014127\n",
       "Government of Ontario - Ministries                 m         245.015180\n",
       "Hospitals and Boards of Public Health              m       17093.645778\n",
       "Municipalities and Services                        m        1231.213687\n",
       "Ontario Power Generation                           m       12800.635698\n",
       "Other Public Sector Employers                      m       12100.534338\n",
       "School Boards                                      m         974.145595\n",
       "Universities                                       m       11926.091765"
      ]
     },
     "execution_count": 108,
     "metadata": {},
     "output_type": "execute_result"
    }
   ],
   "source": [
    "avg_earnings_sector_gender_diff_m = avg_earnings_sector_gender_diff.iloc[1::2]\n",
    "avg_earnings_sector_gender_diff_m"
   ]
  },
  {
   "cell_type": "markdown",
   "metadata": {},
   "source": [
    "Great! Now we can see how much more or less males make relative to females in each sector. Task 3 complete! For our final task let's find a way to visualize the data.\n",
    "## Task 4: Visualize task 3\n",
    "To start, let's just import ```pyplot```, a module in the ```matplotlib``` library and try plotting the data."
   ]
  },
  {
   "cell_type": "code",
   "execution_count": 107,
   "metadata": {
    "scrolled": true
   },
   "outputs": [
    {
     "data": {
      "text/plain": [
       "<matplotlib.axes._subplots.AxesSubplot at 0x7f89abb506d8>"
      ]
     },
     "execution_count": 107,
     "metadata": {},
     "output_type": "execute_result"
    },
    {
     "data": {
      "image/png": "[encoded data removed]",
      "text/plain": [
       "<Figure size 432x288 with 1 Axes>"
      ]
     },
     "metadata": {
      "needs_background": "light"
     },
     "output_type": "display_data"
    }
   ],
   "source": [
    "import matplotlib.pyplot as plt\n",
    "avg_earnings_sector_gender_diff_m.plot()"
   ]
  },
  {
   "cell_type": "markdown",
   "metadata": {},
   "source": [
    "Cool! Something happened. Although it's not quite what we're looking for. A line chart doesn't really make sense to plot our _categorical data_. So let's make it a bar chart. "
   ]
  },
  {
   "cell_type": "code",
   "execution_count": 106,
   "metadata": {},
   "outputs": [
    {
     "data": {
      "text/plain": [
       "<matplotlib.axes._subplots.AxesSubplot at 0x7f89abb50b00>"
      ]
     },
     "execution_count": 106,
     "metadata": {},
     "output_type": "execute_result"
    },
    {
     "data": {
      "image/png": "[encoded data removed]",
      "text/plain": [
       "<Figure size 432x288 with 1 Axes>"
      ]
     },
     "metadata": {
      "needs_background": "light"
     },
     "output_type": "display_data"
    }
   ],
   "source": [
    "avg_earnings_sector_gender_diff_m.plot.bar()"
   ]
  },
  {
   "cell_type": "markdown",
   "metadata": {},
   "source": [
    "It's looking a lot better already. Now we can see the labels on the x-axis. Although the 'm' is in the label because pyplot is trying to plot all the data so let's try and select just 'Sector' and 'Total Earned'. Remember our data looks like this: "
   ]
  },
  {
   "cell_type": "code",
   "execution_count": 109,
   "metadata": {},
   "outputs": [
    {
     "data": {
      "text/html": [
       "<div>\n",
       "<style scoped>\n",
       "    .dataframe tbody tr th:only-of-type {\n",
       "        vertical-align: middle;\n",
       "    }\n",
       "\n",
       "    .dataframe tbody tr th {\n",
       "        vertical-align: top;\n",
       "    }\n",
       "\n",
       "    .dataframe thead th {\n",
       "        text-align: right;\n",
       "    }\n",
       "</style>\n",
       "<table border=\"1\" class=\"dataframe\">\n",
       "  <thead>\n",
       "    <tr style=\"text-align: right;\">\n",
       "      <th></th>\n",
       "      <th></th>\n",
       "      <th>Total Earned</th>\n",
       "    </tr>\n",
       "    <tr>\n",
       "      <th>Sector</th>\n",
       "      <th>Gender</th>\n",
       "      <th></th>\n",
       "    </tr>\n",
       "  </thead>\n",
       "  <tbody>\n",
       "    <tr>\n",
       "      <th>Colleges</th>\n",
       "      <th>m</th>\n",
       "      <td>-599.757745</td>\n",
       "    </tr>\n",
       "    <tr>\n",
       "      <th>Crown Agencies</th>\n",
       "      <th>m</th>\n",
       "      <td>2873.037004</td>\n",
       "    </tr>\n",
       "    <tr>\n",
       "      <th>Government of Ontario - Judiciary</th>\n",
       "      <th>m</th>\n",
       "      <td>9742.414825</td>\n",
       "    </tr>\n",
       "    <tr>\n",
       "      <th>Government of Ontario - Legislative Assembly and Offices</th>\n",
       "      <th>m</th>\n",
       "      <td>4559.014127</td>\n",
       "    </tr>\n",
       "    <tr>\n",
       "      <th>Government of Ontario - Ministries</th>\n",
       "      <th>m</th>\n",
       "      <td>245.015180</td>\n",
       "    </tr>\n",
       "    <tr>\n",
       "      <th>Hospitals and Boards of Public Health</th>\n",
       "      <th>m</th>\n",
       "      <td>17093.645778</td>\n",
       "    </tr>\n",
       "    <tr>\n",
       "      <th>Municipalities and Services</th>\n",
       "      <th>m</th>\n",
       "      <td>1231.213687</td>\n",
       "    </tr>\n",
       "    <tr>\n",
       "      <th>Ontario Power Generation</th>\n",
       "      <th>m</th>\n",
       "      <td>12800.635698</td>\n",
       "    </tr>\n",
       "    <tr>\n",
       "      <th>Other Public Sector Employers</th>\n",
       "      <th>m</th>\n",
       "      <td>12100.534338</td>\n",
       "    </tr>\n",
       "    <tr>\n",
       "      <th>School Boards</th>\n",
       "      <th>m</th>\n",
       "      <td>974.145595</td>\n",
       "    </tr>\n",
       "    <tr>\n",
       "      <th>Universities</th>\n",
       "      <th>m</th>\n",
       "      <td>11926.091765</td>\n",
       "    </tr>\n",
       "  </tbody>\n",
       "</table>\n",
       "</div>"
      ],
      "text/plain": [
       "                                                           Total Earned\n",
       "Sector                                             Gender              \n",
       "Colleges                                           m        -599.757745\n",
       "Crown Agencies                                     m        2873.037004\n",
       "Government of Ontario - Judiciary                  m        9742.414825\n",
       "Government of Ontario - Legislative Assembly an... m        4559.014127\n",
       "Government of Ontario - Ministries                 m         245.015180\n",
       "Hospitals and Boards of Public Health              m       17093.645778\n",
       "Municipalities and Services                        m        1231.213687\n",
       "Ontario Power Generation                           m       12800.635698\n",
       "Other Public Sector Employers                      m       12100.534338\n",
       "School Boards                                      m         974.145595\n",
       "Universities                                       m       11926.091765"
      ]
     },
     "execution_count": 109,
     "metadata": {},
     "output_type": "execute_result"
    }
   ],
   "source": [
    "avg_earnings_sector_gender_diff_m"
   ]
  },
  {
   "cell_type": "markdown",
   "metadata": {},
   "source": [
    "If we try to plot with Sector on the x-axis... "
   ]
  },
  {
   "cell_type": "code",
   "execution_count": 123,
   "metadata": {},
   "outputs": [
    {
     "ename": "KeyError",
     "evalue": "'Sector'",
     "output_type": "error",
     "traceback": [
      "\u001b[0;31m---------------------------------------------------------------------------\u001b[0m",
      "\u001b[0;31mKeyError\u001b[0m                                  Traceback (most recent call last)",
      "\u001b[0;32m~/Documents/Environments/project1_env/lib/python3.6/site-packages/pandas/core/indexes/base.py\u001b[0m in \u001b[0;36mget_loc\u001b[0;34m(self, key, method, tolerance)\u001b[0m\n\u001b[1;32m   3077\u001b[0m             \u001b[0;32mtry\u001b[0m\u001b[0;34m:\u001b[0m\u001b[0;34m\u001b[0m\u001b[0;34m\u001b[0m\u001b[0m\n\u001b[0;32m-> 3078\u001b[0;31m                 \u001b[0;32mreturn\u001b[0m \u001b[0mself\u001b[0m\u001b[0;34m.\u001b[0m\u001b[0m_engine\u001b[0m\u001b[0;34m.\u001b[0m\u001b[0mget_loc\u001b[0m\u001b[0;34m(\u001b[0m\u001b[0mkey\u001b[0m\u001b[0;34m)\u001b[0m\u001b[0;34m\u001b[0m\u001b[0;34m\u001b[0m\u001b[0m\n\u001b[0m\u001b[1;32m   3079\u001b[0m             \u001b[0;32mexcept\u001b[0m \u001b[0mKeyError\u001b[0m\u001b[0;34m:\u001b[0m\u001b[0;34m\u001b[0m\u001b[0;34m\u001b[0m\u001b[0m\n",
      "\u001b[0;32mpandas/_libs/index.pyx\u001b[0m in \u001b[0;36mpandas._libs.index.IndexEngine.get_loc\u001b[0;34m()\u001b[0m\n",
      "\u001b[0;32mpandas/_libs/index.pyx\u001b[0m in \u001b[0;36mpandas._libs.index.IndexEngine.get_loc\u001b[0;34m()\u001b[0m\n",
      "\u001b[0;32mpandas/_libs/hashtable_class_helper.pxi\u001b[0m in \u001b[0;36mpandas._libs.hashtable.PyObjectHashTable.get_item\u001b[0;34m()\u001b[0m\n",
      "\u001b[0;32mpandas/_libs/hashtable_class_helper.pxi\u001b[0m in \u001b[0;36mpandas._libs.hashtable.PyObjectHashTable.get_item\u001b[0;34m()\u001b[0m\n",
      "\u001b[0;31mKeyError\u001b[0m: 'Sector'",
      "\nDuring handling of the above exception, another exception occurred:\n",
      "\u001b[0;31mKeyError\u001b[0m                                  Traceback (most recent call last)",
      "\u001b[0;32m<ipython-input-123-a3307543d53e>\u001b[0m in \u001b[0;36m<module>\u001b[0;34m\u001b[0m\n\u001b[0;32m----> 1\u001b[0;31m \u001b[0mavg_earnings_sector_gender_diff_m\u001b[0m\u001b[0;34m.\u001b[0m\u001b[0mplot\u001b[0m\u001b[0;34m(\u001b[0m\u001b[0mx\u001b[0m\u001b[0;34m=\u001b[0m\u001b[0;34m'Sector'\u001b[0m\u001b[0;34m,\u001b[0m \u001b[0my\u001b[0m\u001b[0;34m=\u001b[0m\u001b[0;34m'Total Earned'\u001b[0m\u001b[0;34m)\u001b[0m\u001b[0;34m\u001b[0m\u001b[0;34m\u001b[0m\u001b[0m\n\u001b[0m",
      "\u001b[0;32m~/Documents/Environments/project1_env/lib/python3.6/site-packages/pandas/plotting/_core.py\u001b[0m in \u001b[0;36m__call__\u001b[0;34m(self, x, y, kind, ax, subplots, sharex, sharey, layout, figsize, use_index, title, grid, legend, style, logx, logy, loglog, xticks, yticks, xlim, ylim, rot, fontsize, colormap, table, yerr, xerr, secondary_y, sort_columns, **kwds)\u001b[0m\n\u001b[1;32m   2939\u001b[0m                           \u001b[0mfontsize\u001b[0m\u001b[0;34m=\u001b[0m\u001b[0mfontsize\u001b[0m\u001b[0;34m,\u001b[0m \u001b[0mcolormap\u001b[0m\u001b[0;34m=\u001b[0m\u001b[0mcolormap\u001b[0m\u001b[0;34m,\u001b[0m \u001b[0mtable\u001b[0m\u001b[0;34m=\u001b[0m\u001b[0mtable\u001b[0m\u001b[0;34m,\u001b[0m\u001b[0;34m\u001b[0m\u001b[0;34m\u001b[0m\u001b[0m\n\u001b[1;32m   2940\u001b[0m                           \u001b[0myerr\u001b[0m\u001b[0;34m=\u001b[0m\u001b[0myerr\u001b[0m\u001b[0;34m,\u001b[0m \u001b[0mxerr\u001b[0m\u001b[0;34m=\u001b[0m\u001b[0mxerr\u001b[0m\u001b[0;34m,\u001b[0m \u001b[0msecondary_y\u001b[0m\u001b[0;34m=\u001b[0m\u001b[0msecondary_y\u001b[0m\u001b[0;34m,\u001b[0m\u001b[0;34m\u001b[0m\u001b[0;34m\u001b[0m\u001b[0m\n\u001b[0;32m-> 2941\u001b[0;31m                           sort_columns=sort_columns, **kwds)\n\u001b[0m\u001b[1;32m   2942\u001b[0m     \u001b[0m__call__\u001b[0m\u001b[0;34m.\u001b[0m\u001b[0m__doc__\u001b[0m \u001b[0;34m=\u001b[0m \u001b[0mplot_frame\u001b[0m\u001b[0;34m.\u001b[0m\u001b[0m__doc__\u001b[0m\u001b[0;34m\u001b[0m\u001b[0;34m\u001b[0m\u001b[0m\n\u001b[1;32m   2943\u001b[0m \u001b[0;34m\u001b[0m\u001b[0m\n",
      "\u001b[0;32m~/Documents/Environments/project1_env/lib/python3.6/site-packages/pandas/plotting/_core.py\u001b[0m in \u001b[0;36mplot_frame\u001b[0;34m(data, x, y, kind, ax, subplots, sharex, sharey, layout, figsize, use_index, title, grid, legend, style, logx, logy, loglog, xticks, yticks, xlim, ylim, rot, fontsize, colormap, table, yerr, xerr, secondary_y, sort_columns, **kwds)\u001b[0m\n\u001b[1;32m   1975\u001b[0m                  \u001b[0myerr\u001b[0m\u001b[0;34m=\u001b[0m\u001b[0myerr\u001b[0m\u001b[0;34m,\u001b[0m \u001b[0mxerr\u001b[0m\u001b[0;34m=\u001b[0m\u001b[0mxerr\u001b[0m\u001b[0;34m,\u001b[0m\u001b[0;34m\u001b[0m\u001b[0;34m\u001b[0m\u001b[0m\n\u001b[1;32m   1976\u001b[0m                  \u001b[0msecondary_y\u001b[0m\u001b[0;34m=\u001b[0m\u001b[0msecondary_y\u001b[0m\u001b[0;34m,\u001b[0m \u001b[0msort_columns\u001b[0m\u001b[0;34m=\u001b[0m\u001b[0msort_columns\u001b[0m\u001b[0;34m,\u001b[0m\u001b[0;34m\u001b[0m\u001b[0;34m\u001b[0m\u001b[0m\n\u001b[0;32m-> 1977\u001b[0;31m                  **kwds)\n\u001b[0m\u001b[1;32m   1978\u001b[0m \u001b[0;34m\u001b[0m\u001b[0m\n\u001b[1;32m   1979\u001b[0m \u001b[0;34m\u001b[0m\u001b[0m\n",
      "\u001b[0;32m~/Documents/Environments/project1_env/lib/python3.6/site-packages/pandas/plotting/_core.py\u001b[0m in \u001b[0;36m_plot\u001b[0;34m(data, x, y, subplots, ax, kind, **kwds)\u001b[0m\n\u001b[1;32m   1764\u001b[0m                 \u001b[0;32mif\u001b[0m \u001b[0mis_integer\u001b[0m\u001b[0;34m(\u001b[0m\u001b[0mx\u001b[0m\u001b[0;34m)\u001b[0m \u001b[0;32mand\u001b[0m \u001b[0;32mnot\u001b[0m \u001b[0mdata\u001b[0m\u001b[0;34m.\u001b[0m\u001b[0mcolumns\u001b[0m\u001b[0;34m.\u001b[0m\u001b[0mholds_integer\u001b[0m\u001b[0;34m(\u001b[0m\u001b[0;34m)\u001b[0m\u001b[0;34m:\u001b[0m\u001b[0;34m\u001b[0m\u001b[0;34m\u001b[0m\u001b[0m\n\u001b[1;32m   1765\u001b[0m                     \u001b[0mx\u001b[0m \u001b[0;34m=\u001b[0m \u001b[0mdata_cols\u001b[0m\u001b[0;34m[\u001b[0m\u001b[0mx\u001b[0m\u001b[0;34m]\u001b[0m\u001b[0;34m\u001b[0m\u001b[0;34m\u001b[0m\u001b[0m\n\u001b[0;32m-> 1766\u001b[0;31m                 \u001b[0;32melif\u001b[0m \u001b[0;32mnot\u001b[0m \u001b[0misinstance\u001b[0m\u001b[0;34m(\u001b[0m\u001b[0mdata\u001b[0m\u001b[0;34m[\u001b[0m\u001b[0mx\u001b[0m\u001b[0;34m]\u001b[0m\u001b[0;34m,\u001b[0m \u001b[0mABCSeries\u001b[0m\u001b[0;34m)\u001b[0m\u001b[0;34m:\u001b[0m\u001b[0;34m\u001b[0m\u001b[0;34m\u001b[0m\u001b[0m\n\u001b[0m\u001b[1;32m   1767\u001b[0m                     \u001b[0;32mraise\u001b[0m \u001b[0mValueError\u001b[0m\u001b[0;34m(\u001b[0m\u001b[0;34m\"x must be a label or position\"\u001b[0m\u001b[0;34m)\u001b[0m\u001b[0;34m\u001b[0m\u001b[0;34m\u001b[0m\u001b[0m\n\u001b[1;32m   1768\u001b[0m                 \u001b[0mdata\u001b[0m \u001b[0;34m=\u001b[0m \u001b[0mdata\u001b[0m\u001b[0;34m.\u001b[0m\u001b[0mset_index\u001b[0m\u001b[0;34m(\u001b[0m\u001b[0mx\u001b[0m\u001b[0;34m)\u001b[0m\u001b[0;34m\u001b[0m\u001b[0;34m\u001b[0m\u001b[0m\n",
      "\u001b[0;32m~/Documents/Environments/project1_env/lib/python3.6/site-packages/pandas/core/frame.py\u001b[0m in \u001b[0;36m__getitem__\u001b[0;34m(self, key)\u001b[0m\n\u001b[1;32m   2686\u001b[0m             \u001b[0;32mreturn\u001b[0m \u001b[0mself\u001b[0m\u001b[0;34m.\u001b[0m\u001b[0m_getitem_multilevel\u001b[0m\u001b[0;34m(\u001b[0m\u001b[0mkey\u001b[0m\u001b[0;34m)\u001b[0m\u001b[0;34m\u001b[0m\u001b[0;34m\u001b[0m\u001b[0m\n\u001b[1;32m   2687\u001b[0m         \u001b[0;32melse\u001b[0m\u001b[0;34m:\u001b[0m\u001b[0;34m\u001b[0m\u001b[0;34m\u001b[0m\u001b[0m\n\u001b[0;32m-> 2688\u001b[0;31m             \u001b[0;32mreturn\u001b[0m \u001b[0mself\u001b[0m\u001b[0;34m.\u001b[0m\u001b[0m_getitem_column\u001b[0m\u001b[0;34m(\u001b[0m\u001b[0mkey\u001b[0m\u001b[0;34m)\u001b[0m\u001b[0;34m\u001b[0m\u001b[0;34m\u001b[0m\u001b[0m\n\u001b[0m\u001b[1;32m   2689\u001b[0m \u001b[0;34m\u001b[0m\u001b[0m\n\u001b[1;32m   2690\u001b[0m     \u001b[0;32mdef\u001b[0m \u001b[0m_getitem_column\u001b[0m\u001b[0;34m(\u001b[0m\u001b[0mself\u001b[0m\u001b[0;34m,\u001b[0m \u001b[0mkey\u001b[0m\u001b[0;34m)\u001b[0m\u001b[0;34m:\u001b[0m\u001b[0;34m\u001b[0m\u001b[0;34m\u001b[0m\u001b[0m\n",
      "\u001b[0;32m~/Documents/Environments/project1_env/lib/python3.6/site-packages/pandas/core/frame.py\u001b[0m in \u001b[0;36m_getitem_column\u001b[0;34m(self, key)\u001b[0m\n\u001b[1;32m   2693\u001b[0m         \u001b[0;31m# get column\u001b[0m\u001b[0;34m\u001b[0m\u001b[0;34m\u001b[0m\u001b[0;34m\u001b[0m\u001b[0m\n\u001b[1;32m   2694\u001b[0m         \u001b[0;32mif\u001b[0m \u001b[0mself\u001b[0m\u001b[0;34m.\u001b[0m\u001b[0mcolumns\u001b[0m\u001b[0;34m.\u001b[0m\u001b[0mis_unique\u001b[0m\u001b[0;34m:\u001b[0m\u001b[0;34m\u001b[0m\u001b[0;34m\u001b[0m\u001b[0m\n\u001b[0;32m-> 2695\u001b[0;31m             \u001b[0;32mreturn\u001b[0m \u001b[0mself\u001b[0m\u001b[0;34m.\u001b[0m\u001b[0m_get_item_cache\u001b[0m\u001b[0;34m(\u001b[0m\u001b[0mkey\u001b[0m\u001b[0;34m)\u001b[0m\u001b[0;34m\u001b[0m\u001b[0;34m\u001b[0m\u001b[0m\n\u001b[0m\u001b[1;32m   2696\u001b[0m \u001b[0;34m\u001b[0m\u001b[0m\n\u001b[1;32m   2697\u001b[0m         \u001b[0;31m# duplicate columns & possible reduce dimensionality\u001b[0m\u001b[0;34m\u001b[0m\u001b[0;34m\u001b[0m\u001b[0;34m\u001b[0m\u001b[0m\n",
      "\u001b[0;32m~/Documents/Environments/project1_env/lib/python3.6/site-packages/pandas/core/generic.py\u001b[0m in \u001b[0;36m_get_item_cache\u001b[0;34m(self, item)\u001b[0m\n\u001b[1;32m   2487\u001b[0m         \u001b[0mres\u001b[0m \u001b[0;34m=\u001b[0m \u001b[0mcache\u001b[0m\u001b[0;34m.\u001b[0m\u001b[0mget\u001b[0m\u001b[0;34m(\u001b[0m\u001b[0mitem\u001b[0m\u001b[0;34m)\u001b[0m\u001b[0;34m\u001b[0m\u001b[0;34m\u001b[0m\u001b[0m\n\u001b[1;32m   2488\u001b[0m         \u001b[0;32mif\u001b[0m \u001b[0mres\u001b[0m \u001b[0;32mis\u001b[0m \u001b[0;32mNone\u001b[0m\u001b[0;34m:\u001b[0m\u001b[0;34m\u001b[0m\u001b[0;34m\u001b[0m\u001b[0m\n\u001b[0;32m-> 2489\u001b[0;31m             \u001b[0mvalues\u001b[0m \u001b[0;34m=\u001b[0m \u001b[0mself\u001b[0m\u001b[0;34m.\u001b[0m\u001b[0m_data\u001b[0m\u001b[0;34m.\u001b[0m\u001b[0mget\u001b[0m\u001b[0;34m(\u001b[0m\u001b[0mitem\u001b[0m\u001b[0;34m)\u001b[0m\u001b[0;34m\u001b[0m\u001b[0;34m\u001b[0m\u001b[0m\n\u001b[0m\u001b[1;32m   2490\u001b[0m             \u001b[0mres\u001b[0m \u001b[0;34m=\u001b[0m \u001b[0mself\u001b[0m\u001b[0;34m.\u001b[0m\u001b[0m_box_item_values\u001b[0m\u001b[0;34m(\u001b[0m\u001b[0mitem\u001b[0m\u001b[0;34m,\u001b[0m \u001b[0mvalues\u001b[0m\u001b[0;34m)\u001b[0m\u001b[0;34m\u001b[0m\u001b[0;34m\u001b[0m\u001b[0m\n\u001b[1;32m   2491\u001b[0m             \u001b[0mcache\u001b[0m\u001b[0;34m[\u001b[0m\u001b[0mitem\u001b[0m\u001b[0;34m]\u001b[0m \u001b[0;34m=\u001b[0m \u001b[0mres\u001b[0m\u001b[0;34m\u001b[0m\u001b[0;34m\u001b[0m\u001b[0m\n",
      "\u001b[0;32m~/Documents/Environments/project1_env/lib/python3.6/site-packages/pandas/core/internals.py\u001b[0m in \u001b[0;36mget\u001b[0;34m(self, item, fastpath)\u001b[0m\n\u001b[1;32m   4113\u001b[0m \u001b[0;34m\u001b[0m\u001b[0m\n\u001b[1;32m   4114\u001b[0m             \u001b[0;32mif\u001b[0m \u001b[0;32mnot\u001b[0m \u001b[0misna\u001b[0m\u001b[0;34m(\u001b[0m\u001b[0mitem\u001b[0m\u001b[0;34m)\u001b[0m\u001b[0;34m:\u001b[0m\u001b[0;34m\u001b[0m\u001b[0;34m\u001b[0m\u001b[0m\n\u001b[0;32m-> 4115\u001b[0;31m                 \u001b[0mloc\u001b[0m \u001b[0;34m=\u001b[0m \u001b[0mself\u001b[0m\u001b[0;34m.\u001b[0m\u001b[0mitems\u001b[0m\u001b[0;34m.\u001b[0m\u001b[0mget_loc\u001b[0m\u001b[0;34m(\u001b[0m\u001b[0mitem\u001b[0m\u001b[0;34m)\u001b[0m\u001b[0;34m\u001b[0m\u001b[0;34m\u001b[0m\u001b[0m\n\u001b[0m\u001b[1;32m   4116\u001b[0m             \u001b[0;32melse\u001b[0m\u001b[0;34m:\u001b[0m\u001b[0;34m\u001b[0m\u001b[0;34m\u001b[0m\u001b[0m\n\u001b[1;32m   4117\u001b[0m                 \u001b[0mindexer\u001b[0m \u001b[0;34m=\u001b[0m \u001b[0mnp\u001b[0m\u001b[0;34m.\u001b[0m\u001b[0marange\u001b[0m\u001b[0;34m(\u001b[0m\u001b[0mlen\u001b[0m\u001b[0;34m(\u001b[0m\u001b[0mself\u001b[0m\u001b[0;34m.\u001b[0m\u001b[0mitems\u001b[0m\u001b[0;34m)\u001b[0m\u001b[0;34m)\u001b[0m\u001b[0;34m[\u001b[0m\u001b[0misna\u001b[0m\u001b[0;34m(\u001b[0m\u001b[0mself\u001b[0m\u001b[0;34m.\u001b[0m\u001b[0mitems\u001b[0m\u001b[0;34m)\u001b[0m\u001b[0;34m]\u001b[0m\u001b[0;34m\u001b[0m\u001b[0;34m\u001b[0m\u001b[0m\n",
      "\u001b[0;32m~/Documents/Environments/project1_env/lib/python3.6/site-packages/pandas/core/indexes/base.py\u001b[0m in \u001b[0;36mget_loc\u001b[0;34m(self, key, method, tolerance)\u001b[0m\n\u001b[1;32m   3078\u001b[0m                 \u001b[0;32mreturn\u001b[0m \u001b[0mself\u001b[0m\u001b[0;34m.\u001b[0m\u001b[0m_engine\u001b[0m\u001b[0;34m.\u001b[0m\u001b[0mget_loc\u001b[0m\u001b[0;34m(\u001b[0m\u001b[0mkey\u001b[0m\u001b[0;34m)\u001b[0m\u001b[0;34m\u001b[0m\u001b[0;34m\u001b[0m\u001b[0m\n\u001b[1;32m   3079\u001b[0m             \u001b[0;32mexcept\u001b[0m \u001b[0mKeyError\u001b[0m\u001b[0;34m:\u001b[0m\u001b[0;34m\u001b[0m\u001b[0;34m\u001b[0m\u001b[0m\n\u001b[0;32m-> 3080\u001b[0;31m                 \u001b[0;32mreturn\u001b[0m \u001b[0mself\u001b[0m\u001b[0;34m.\u001b[0m\u001b[0m_engine\u001b[0m\u001b[0;34m.\u001b[0m\u001b[0mget_loc\u001b[0m\u001b[0;34m(\u001b[0m\u001b[0mself\u001b[0m\u001b[0;34m.\u001b[0m\u001b[0m_maybe_cast_indexer\u001b[0m\u001b[0;34m(\u001b[0m\u001b[0mkey\u001b[0m\u001b[0;34m)\u001b[0m\u001b[0;34m)\u001b[0m\u001b[0;34m\u001b[0m\u001b[0;34m\u001b[0m\u001b[0m\n\u001b[0m\u001b[1;32m   3081\u001b[0m \u001b[0;34m\u001b[0m\u001b[0m\n\u001b[1;32m   3082\u001b[0m         \u001b[0mindexer\u001b[0m \u001b[0;34m=\u001b[0m \u001b[0mself\u001b[0m\u001b[0;34m.\u001b[0m\u001b[0mget_indexer\u001b[0m\u001b[0;34m(\u001b[0m\u001b[0;34m[\u001b[0m\u001b[0mkey\u001b[0m\u001b[0;34m]\u001b[0m\u001b[0;34m,\u001b[0m \u001b[0mmethod\u001b[0m\u001b[0;34m=\u001b[0m\u001b[0mmethod\u001b[0m\u001b[0;34m,\u001b[0m \u001b[0mtolerance\u001b[0m\u001b[0;34m=\u001b[0m\u001b[0mtolerance\u001b[0m\u001b[0;34m)\u001b[0m\u001b[0;34m\u001b[0m\u001b[0;34m\u001b[0m\u001b[0m\n",
      "\u001b[0;32mpandas/_libs/index.pyx\u001b[0m in \u001b[0;36mpandas._libs.index.IndexEngine.get_loc\u001b[0;34m()\u001b[0m\n",
      "\u001b[0;32mpandas/_libs/index.pyx\u001b[0m in \u001b[0;36mpandas._libs.index.IndexEngine.get_loc\u001b[0;34m()\u001b[0m\n",
      "\u001b[0;32mpandas/_libs/hashtable_class_helper.pxi\u001b[0m in \u001b[0;36mpandas._libs.hashtable.PyObjectHashTable.get_item\u001b[0;34m()\u001b[0m\n",
      "\u001b[0;32mpandas/_libs/hashtable_class_helper.pxi\u001b[0m in \u001b[0;36mpandas._libs.hashtable.PyObjectHashTable.get_item\u001b[0;34m()\u001b[0m\n",
      "\u001b[0;31mKeyError\u001b[0m: 'Sector'"
     ]
    }
   ],
   "source": [
    "avg_earnings_sector_gender_diff_m.plot(x='Sector', y='Total Earned')"
   ]
  },
  {
   "cell_type": "markdown",
   "metadata": {},
   "source": [
    "What? KeyError? That means 'Sector' can't be found even though it looks like it's right there! In fact, 'Sector' and 'Gender' are indexes, more specifically _hierarchical indexes_. 'Total Earned' is the only column in this data set."
   ]
  },
  {
   "cell_type": "code",
   "execution_count": 117,
   "metadata": {},
   "outputs": [
    {
     "data": {
      "text/plain": [
       "Index(['Total Earned'], dtype='object')"
      ]
     },
     "execution_count": 117,
     "metadata": {},
     "output_type": "execute_result"
    }
   ],
   "source": [
    "avg_earnings_sector_gender_diff_m.columns"
   ]
  },
  {
   "cell_type": "markdown",
   "metadata": {},
   "source": [
    " Compare the ```avg_earnings_sector_gender_diff_m``` data to a simple selection of a column."
   ]
  },
  {
   "cell_type": "code",
   "execution_count": 113,
   "metadata": {},
   "outputs": [
    {
     "data": {
      "text/html": [
       "<div>\n",
       "<style scoped>\n",
       "    .dataframe tbody tr th:only-of-type {\n",
       "        vertical-align: middle;\n",
       "    }\n",
       "\n",
       "    .dataframe tbody tr th {\n",
       "        vertical-align: top;\n",
       "    }\n",
       "\n",
       "    .dataframe thead th {\n",
       "        text-align: right;\n",
       "    }\n",
       "</style>\n",
       "<table border=\"1\" class=\"dataframe\">\n",
       "  <thead>\n",
       "    <tr style=\"text-align: right;\">\n",
       "      <th></th>\n",
       "      <th>Sector</th>\n",
       "      <th>Gender</th>\n",
       "      <th>Total Earned</th>\n",
       "    </tr>\n",
       "  </thead>\n",
       "  <tbody>\n",
       "    <tr>\n",
       "      <th>0</th>\n",
       "      <td>Colleges</td>\n",
       "      <td>f</td>\n",
       "      <td>199106.93</td>\n",
       "    </tr>\n",
       "    <tr>\n",
       "      <th>1</th>\n",
       "      <td>Colleges</td>\n",
       "      <td>f</td>\n",
       "      <td>119900.76</td>\n",
       "    </tr>\n",
       "    <tr>\n",
       "      <th>2</th>\n",
       "      <td>Colleges</td>\n",
       "      <td>m</td>\n",
       "      <td>125572.24</td>\n",
       "    </tr>\n",
       "    <tr>\n",
       "      <th>3</th>\n",
       "      <td>Colleges</td>\n",
       "      <td>m</td>\n",
       "      <td>100271.54</td>\n",
       "    </tr>\n",
       "    <tr>\n",
       "      <th>4</th>\n",
       "      <td>Colleges</td>\n",
       "      <td>m</td>\n",
       "      <td>105901.78</td>\n",
       "    </tr>\n",
       "  </tbody>\n",
       "</table>\n",
       "</div>"
      ],
      "text/plain": [
       "     Sector Gender  Total Earned\n",
       "0  Colleges      f     199106.93\n",
       "1  Colleges      f     119900.76\n",
       "2  Colleges      m     125572.24\n",
       "3  Colleges      m     100271.54\n",
       "4  Colleges      m     105901.78"
      ]
     },
     "execution_count": 113,
     "metadata": {},
     "output_type": "execute_result"
    }
   ],
   "source": [
    "data[['Sector','Gender','Total Earned']].head()"
   ]
  },
  {
   "cell_type": "markdown",
   "metadata": {},
   "source": [
    "Notice how there is a **bolded** index column on the left. This is no different than the bolded Sector and Gender indexes in ```avg_earnings_sector_gender_diff_m```. Now, we can actually deal with this probably quite easily. "
   ]
  },
  {
   "cell_type": "code",
   "execution_count": 145,
   "metadata": {},
   "outputs": [
    {
     "data": {
      "text/html": [
       "<div>\n",
       "<style scoped>\n",
       "    .dataframe tbody tr th:only-of-type {\n",
       "        vertical-align: middle;\n",
       "    }\n",
       "\n",
       "    .dataframe tbody tr th {\n",
       "        vertical-align: top;\n",
       "    }\n",
       "\n",
       "    .dataframe thead th {\n",
       "        text-align: right;\n",
       "    }\n",
       "</style>\n",
       "<table border=\"1\" class=\"dataframe\">\n",
       "  <thead>\n",
       "    <tr style=\"text-align: right;\">\n",
       "      <th></th>\n",
       "      <th>Sector</th>\n",
       "      <th>Gender</th>\n",
       "      <th>Total Earned</th>\n",
       "    </tr>\n",
       "  </thead>\n",
       "  <tbody>\n",
       "    <tr>\n",
       "      <th>0</th>\n",
       "      <td>Colleges</td>\n",
       "      <td>m</td>\n",
       "      <td>-599.757745</td>\n",
       "    </tr>\n",
       "    <tr>\n",
       "      <th>1</th>\n",
       "      <td>Crown Agencies</td>\n",
       "      <td>m</td>\n",
       "      <td>2873.037004</td>\n",
       "    </tr>\n",
       "    <tr>\n",
       "      <th>2</th>\n",
       "      <td>Government of Ontario - Judiciary</td>\n",
       "      <td>m</td>\n",
       "      <td>9742.414825</td>\n",
       "    </tr>\n",
       "    <tr>\n",
       "      <th>3</th>\n",
       "      <td>Government of Ontario - Legislative Assembly a...</td>\n",
       "      <td>m</td>\n",
       "      <td>4559.014127</td>\n",
       "    </tr>\n",
       "    <tr>\n",
       "      <th>4</th>\n",
       "      <td>Government of Ontario - Ministries</td>\n",
       "      <td>m</td>\n",
       "      <td>245.015180</td>\n",
       "    </tr>\n",
       "    <tr>\n",
       "      <th>5</th>\n",
       "      <td>Hospitals and Boards of Public Health</td>\n",
       "      <td>m</td>\n",
       "      <td>17093.645778</td>\n",
       "    </tr>\n",
       "    <tr>\n",
       "      <th>6</th>\n",
       "      <td>Municipalities and Services</td>\n",
       "      <td>m</td>\n",
       "      <td>1231.213687</td>\n",
       "    </tr>\n",
       "    <tr>\n",
       "      <th>7</th>\n",
       "      <td>Ontario Power Generation</td>\n",
       "      <td>m</td>\n",
       "      <td>12800.635698</td>\n",
       "    </tr>\n",
       "    <tr>\n",
       "      <th>8</th>\n",
       "      <td>Other Public Sector Employers</td>\n",
       "      <td>m</td>\n",
       "      <td>12100.534338</td>\n",
       "    </tr>\n",
       "    <tr>\n",
       "      <th>9</th>\n",
       "      <td>School Boards</td>\n",
       "      <td>m</td>\n",
       "      <td>974.145595</td>\n",
       "    </tr>\n",
       "    <tr>\n",
       "      <th>10</th>\n",
       "      <td>Universities</td>\n",
       "      <td>m</td>\n",
       "      <td>11926.091765</td>\n",
       "    </tr>\n",
       "  </tbody>\n",
       "</table>\n",
       "</div>"
      ],
      "text/plain": [
       "                                               Sector Gender  Total Earned\n",
       "0                                            Colleges      m   -599.757745\n",
       "1                                      Crown Agencies      m   2873.037004\n",
       "2                   Government of Ontario - Judiciary      m   9742.414825\n",
       "3   Government of Ontario - Legislative Assembly a...      m   4559.014127\n",
       "4                  Government of Ontario - Ministries      m    245.015180\n",
       "5               Hospitals and Boards of Public Health      m  17093.645778\n",
       "6                         Municipalities and Services      m   1231.213687\n",
       "7                            Ontario Power Generation      m  12800.635698\n",
       "8                       Other Public Sector Employers      m  12100.534338\n",
       "9                                       School Boards      m    974.145595\n",
       "10                                       Universities      m  11926.091765"
      ]
     },
     "execution_count": 145,
     "metadata": {},
     "output_type": "execute_result"
    }
   ],
   "source": [
    "avg_earnings_sector_gender_diff_reset = avg_earnings_sector_gender_diff_m.reset_index()\n",
    "avg_earnings_sector_gender_diff_reset"
   ]
  },
  {
   "cell_type": "markdown",
   "metadata": {},
   "source": [
    "Ta-da! Now we have columns again and we should be able to plot. "
   ]
  },
  {
   "cell_type": "code",
   "execution_count": 146,
   "metadata": {},
   "outputs": [
    {
     "data": {
      "text/plain": [
       "<matplotlib.axes._subplots.AxesSubplot at 0x7f89ab46fef0>"
      ]
     },
     "execution_count": 146,
     "metadata": {},
     "output_type": "execute_result"
    },
    {
     "data": {
      "image/png": "[encoded data removed]",
      "text/plain": [
       "<Figure size 432x288 with 1 Axes>"
      ]
     },
     "metadata": {
      "needs_background": "light"
     },
     "output_type": "display_data"
    }
   ],
   "source": [
    "avg_earnings_sector_gender_diff_reset.plot.bar(x='Sector', y='Total Earned')"
   ]
  },
  {
   "cell_type": "markdown",
   "metadata": {},
   "source": [
    "Let's sort the Sectors from smallest to largest difference."
   ]
  },
  {
   "cell_type": "code",
   "execution_count": 147,
   "metadata": {},
   "outputs": [
    {
     "data": {
      "text/plain": [
       "<matplotlib.axes._subplots.AxesSubplot at 0x7f89ab383080>"
      ]
     },
     "execution_count": 147,
     "metadata": {},
     "output_type": "execute_result"
    },
    {
     "data": {
      "image/png": "[encoded data removed]",
      "text/plain": [
       "<Figure size 432x288 with 1 Axes>"
      ]
     },
     "metadata": {
      "needs_background": "light"
     },
     "output_type": "display_data"
    }
   ],
   "source": [
    "avg_earnings_sector_gender_diff_reset = avg_earnings_sector_gender_diff_reset.sort_values(by='Total Earned', ascending=True)\n",
    "avg_earnings_sector_gender_diff_reset.plot.bar(x='Sector', y='Total Earned')"
   ]
  },
  {
   "cell_type": "markdown",
   "metadata": {},
   "source": [
    "Let's make some adjustments to clean up the plot... We'll rename 'Total Earned' to 'Difference in Earnings', add a title and labels, and make the bar chart horizontal for improved readability."
   ]
  },
  {
   "cell_type": "code",
   "execution_count": 148,
   "metadata": {},
   "outputs": [
    {
     "data": {
      "text/plain": [
       "Text(0.5, 0, 'Difference in Mean Earnings ($)')"
      ]
     },
     "execution_count": 148,
     "metadata": {},
     "output_type": "execute_result"
    },
    {
     "data": {
      "image/png": "[encoded data removed]",
      "text/plain": [
       "<Figure size 432x288 with 1 Axes>"
      ]
     },
     "metadata": {
      "needs_background": "light"
     },
     "output_type": "display_data"
    }
   ],
   "source": [
    "avg_earnings_sector_gender_diff_reset = avg_earnings_sector_gender_diff_reset.rename(columns={'Total Earned':'Difference in Earnings'})\n",
    "avg_earnings_sector_gender_diff_reset.plot.barh(x='Sector', y='Difference in Earnings')\n",
    "plt.title('Difference in Mean Earnings between Male and Female Employees')\n",
    "plt.xlabel('Difference in Mean Earnings ($)')\n"
   ]
  }
 ],
 "metadata": {
  "kernelspec": {
   "display_name": "introproject",
   "language": "python",
   "name": "introproject"
  },
  "language_info": {
   "codemirror_mode": {
    "name": "ipython",
    "version": 3
   },
   "file_extension": ".py",
   "mimetype": "text/x-python",
   "name": "python",
   "nbconvert_exporter": "python",
   "pygments_lexer": "ipython3",
   "version": "3.6.7"
  }
 },
 "nbformat": 4,
 "nbformat_minor": 2
}
